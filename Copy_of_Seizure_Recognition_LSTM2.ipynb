{
  "nbformat": 4,
  "nbformat_minor": 0,
  "metadata": {
    "kernelspec": {
      "name": "python3",
      "display_name": "Python 3"
    },
    "language_info": {
      "codemirror_mode": {
        "name": "ipython",
        "version": 3
      },
      "file_extension": ".py",
      "mimetype": "text/x-python",
      "name": "python",
      "nbconvert_exporter": "python",
      "pygments_lexer": "ipython3",
      "version": "3.7.4"
    },
    "colab": {
      "name": "Copy of Seizure_Recognition_LSTM2.ipynb",
      "provenance": [],
      "collapsed_sections": [],
      "machine_shape": "hm",
      "include_colab_link": true
    },
    "accelerator": "GPU"
  },
  "cells": [
    {
      "cell_type": "markdown",
      "metadata": {
        "id": "view-in-github",
        "colab_type": "text"
      },
      "source": [
        "<a href=\"https://colab.research.google.com/github/vijpandaturtle/ActiveLearning/blob/master/Copy_of_Seizure_Recognition_LSTM2.ipynb\" target=\"_parent\"><img src=\"https://colab.research.google.com/assets/colab-badge.svg\" alt=\"Open In Colab\"/></a>"
      ]
    },
    {
      "cell_type": "code",
      "metadata": {
        "id": "cDwUEk1sl6Cb"
      },
      "source": [
        "from google.colab import drive"
      ],
      "execution_count": null,
      "outputs": []
    },
    {
      "cell_type": "markdown",
      "metadata": {
        "id": "Ogq-NH96umkZ"
      },
      "source": [
        "USE IT FOR LOCAL RUNTIME"
      ]
    },
    {
      "cell_type": "code",
      "metadata": {
        "id": "P9ZExshNuaZz"
      },
      "source": [
        "# import os\n",
        "# _src = os.path.join(os.getcwd(),\"ThalamusData.mat\")"
      ],
      "execution_count": null,
      "outputs": []
    },
    {
      "cell_type": "code",
      "metadata": {
        "id": "ZCLUmRlNl9Kw",
        "outputId": "e57ae4d0-8c4b-4063-8987-566f1d86a46f",
        "colab": {
          "base_uri": "https://localhost:8080/"
        }
      },
      "source": [
        "drive.mount('/content/gdrive')"
      ],
      "execution_count": null,
      "outputs": [
        {
          "output_type": "stream",
          "text": [
            "Mounted at /content/gdrive\n"
          ],
          "name": "stdout"
        }
      ]
    },
    {
      "cell_type": "markdown",
      "metadata": {
        "id": "IjjSYrccoRsv"
      },
      "source": [
        "## Load packages"
      ]
    },
    {
      "cell_type": "code",
      "metadata": {
        "id": "sJ9YFoVFyueJ",
        "outputId": "18d5a4d8-1bb1-4459-f5c8-f53fed81a819",
        "colab": {
          "base_uri": "https://localhost:8080/"
        }
      },
      "source": [
        "!pip install mne"
      ],
      "execution_count": null,
      "outputs": [
        {
          "output_type": "stream",
          "text": [
            "Collecting mne\n",
            "\u001b[?25l  Downloading https://files.pythonhosted.org/packages/c9/0d/ba12e84feae362d9808e51aa4e3d96a148db9a047e13e51bb070016fa1ab/mne-0.21.0-py3-none-any.whl (6.8MB)\n",
            "\u001b[K     |████████████████████████████████| 6.8MB 4.8MB/s \n",
            "\u001b[?25hRequirement already satisfied: scipy>=0.17.1 in /usr/local/lib/python3.6/dist-packages (from mne) (1.4.1)\n",
            "Requirement already satisfied: numpy>=1.11.3 in /usr/local/lib/python3.6/dist-packages (from mne) (1.18.5)\n",
            "Installing collected packages: mne\n",
            "Successfully installed mne-0.21.0\n"
          ],
          "name": "stdout"
        }
      ]
    },
    {
      "cell_type": "code",
      "metadata": {
        "id": "nc1Hd7GDAoS5"
      },
      "source": [
        "# !pip freeze > requirements.txt"
      ],
      "execution_count": null,
      "outputs": []
    },
    {
      "cell_type": "code",
      "metadata": {
        "id": "YfRe3z9L5jc_"
      },
      "source": [
        "import numpy as np\n",
        "import pandas as pd\n",
        "import matplotlib.pyplot as plt\n",
        "from pylab import *\n",
        "from matplotlib import gridspec\n",
        "import mne\n",
        "from mne import find_events\n",
        "from scipy.signal import resample, freqz_zpk, zpk2sos, sosfiltfilt, cheb2ord, iirdesign\n",
        "import h5py\n",
        "import time\n",
        "import matplotlib.pyplot as plt\n",
        "import seaborn as sns\n",
        "\n",
        "from sklearn.model_selection import train_test_split\n",
        "from sklearn.metrics import confusion_matrix, classification_report\n",
        "\n",
        "from tensorflow.compat.v1.keras.models import Model\n",
        "from tensorflow.compat.v1.keras.layers import Input, Dropout, BatchNormalization\n",
        "from tensorflow.compat.v1.keras.layers import Conv1D, MaxPooling1D\n",
        "from tensorflow.compat.v1.keras.layers import CuDNNLSTM, Bidirectional, Dense\n",
        "# from tensorflow.keras.initializers import glorot_uniform\n",
        "from tensorflow.compat.v1.keras.optimizers import Adam\n",
        "from tensorflow.compat.v1.keras.callbacks import ReduceLROnPlateau, EarlyStopping\n",
        "import tensorflow.compat.v1.keras.backend as K\n",
        "\n",
        "%matplotlib inline\n",
        "import scipy.io as sio\n",
        "import re\n",
        "import chardet\n",
        "import os\n",
        "import scipy.signal "
      ],
      "execution_count": null,
      "outputs": []
    },
    {
      "cell_type": "markdown",
      "metadata": {
        "id": "7V_XNnhvo2CF"
      },
      "source": [
        "# Data Preparation"
      ]
    },
    {
      "cell_type": "code",
      "metadata": {
        "id": "wI49rWh_GAcW"
      },
      "source": [
        "class MatIngest:\n",
        "    def __init__(self, filename, data_name):\n",
        "        self.file = sio.loadmat(filename,\n",
        "                                struct_as_record=False, squeeze_me=True)\n",
        "        self.struct = self.file[data_name]\n",
        "\n",
        "    def create_data_obj(self):\n",
        "        \"\"\"\n",
        "        :return: a Dict contains Matlab Structure\n",
        "        \"\"\"\n",
        "        struct = self.struct\n",
        "        d = {}\n",
        "        for attr in struct._fieldnames:\n",
        "            d[attr] = getattr(struct, attr)\n",
        "        return d"
      ],
      "execution_count": null,
      "outputs": []
    },
    {
      "cell_type": "code",
      "metadata": {
        "id": "TQ0ZVixf7n2Y"
      },
      "source": [
        "def resample_by_interpolation(signal, input_fs, output_fs):\n",
        "\n",
        "    scale = output_fs / input_fs\n",
        "    # calculate new length of sample\n",
        "    n = round(len(signal) * scale)\n",
        "\n",
        "    # use linear interpolation\n",
        "    # endpoint keyword means than linspace doesn't go all the way to 1.0\n",
        "    # If it did, there are some off-by-one errors\n",
        "    # e.g. scale=2.0, [1,2,3] should go to [1,1.5,2,2.5,3,3]\n",
        "    # but with endpoint=True, we get [1,1.4,1.8,2.2,2.6,3]\n",
        "    # Both are OK, but since resampling will often involve\n",
        "    # exact ratios (i.e. for 44100 to 22050 or vice versa)\n",
        "    # using endpoint=False gets less noise in the resampled sound\n",
        "    resampled_signal = np.interp(\n",
        "        np.linspace(0.0, 1.0, n, endpoint=False),  # where to interpret\n",
        "        np.linspace(0.0, 1.0, len(signal), endpoint=False),  # known positions\n",
        "        signal,  # known data points\n",
        "    )\n",
        "    return resampled_signal"
      ],
      "execution_count": null,
      "outputs": []
    },
    {
      "cell_type": "code",
      "metadata": {
        "id": "yWDZWRg3GGNG"
      },
      "source": [
        "_src = \"/content/gdrive/My Drive/BME-Bhargav-EEG-DeepLearning/data/ThalamusData.mat\"\n",
        "mat_data = MatIngest(filename=_src, data_name='ThalamusData').create_data_obj()"
      ],
      "execution_count": null,
      "outputs": []
    },
    {
      "cell_type": "code",
      "metadata": {
        "id": "15Uf5OvEGQDg"
      },
      "source": [
        "data_sep = mat_data.get('SeparatedData')\n",
        "del mat_data"
      ],
      "execution_count": null,
      "outputs": []
    },
    {
      "cell_type": "code",
      "metadata": {
        "id": "s5CI1lU4LQ1o"
      },
      "source": [
        "dataset = pd.DataFrame({'b_ictal': data_sep[:, 0], 'ictal': data_sep[:, 1], 'a_ictal': data_sep[:, 2]})"
      ],
      "execution_count": null,
      "outputs": []
    },
    {
      "cell_type": "code",
      "metadata": {
        "id": "JPh2Z_F4rPX5"
      },
      "source": [
        "dataset_b_ictal = pd.DataFrame({'b_ictal': data_sep[:, 0]})\n",
        "data_b_ictal = pd.concat([dataset_b_ictal.b_ictal.apply(pd.Series)], axis=1)"
      ],
      "execution_count": null,
      "outputs": []
    },
    {
      "cell_type": "code",
      "metadata": {
        "id": "Il0nwNmnzU5y"
      },
      "source": [
        "# data_b_ictal = data_ictal.iloc[10:].copy()"
      ],
      "execution_count": null,
      "outputs": []
    },
    {
      "cell_type": "code",
      "metadata": {
        "id": "nB63ewimr2JO"
      },
      "source": [
        "dataset_ictal = pd.DataFrame({'ictal': data_sep[:, 1]})\n",
        "data_ictal = pd.concat([dataset_ictal.ictal.apply(pd.Series)], axis=1)"
      ],
      "execution_count": null,
      "outputs": []
    },
    {
      "cell_type": "markdown",
      "metadata": {
        "id": "FS2iYdpnIXix"
      },
      "source": [
        "### Plotting duration of before, after and ictal episodes"
      ]
    },
    {
      "cell_type": "code",
      "metadata": {
        "id": "euZ5c7DuKoxv",
        "outputId": "a1059128-8547-4116-8eba-f4ee9dd36603",
        "colab": {
          "base_uri": "https://localhost:8080/",
          "height": 34
        }
      },
      "source": [
        "dataset_ictal.shape"
      ],
      "execution_count": null,
      "outputs": [
        {
          "output_type": "execute_result",
          "data": {
            "text/plain": [
              "(92, 1)"
            ]
          },
          "metadata": {
            "tags": []
          },
          "execution_count": 39
        }
      ]
    },
    {
      "cell_type": "code",
      "metadata": {
        "id": "fn9WFRcyIQX-",
        "outputId": "79672ec4-9175-4c9f-a0ce-71d1d8bbec31",
        "colab": {
          "base_uri": "https://localhost:8080/",
          "height": 296
        }
      },
      "source": [
        "duration = []\n",
        "count = 0\n",
        "frequency = 2048 #Hz\n",
        "for i in range(dataset_ictal.shape[0]):\n",
        "  duration.append(len(dataset_ictal.ictal[i])/2048)\n",
        "  if (duration[i] > 150):\n",
        "    count += 1\n",
        "\n",
        "plt.bar([i for i in range(92)], duration)\n",
        "plt.xlabel(\"Samples\")\n",
        "plt.ylabel(\"Duration in seconds\")\n",
        "\n",
        "print(\"Number of samples having duration above 150 seconds :\", count)"
      ],
      "execution_count": null,
      "outputs": [
        {
          "output_type": "stream",
          "text": [
            "Number of samples having duration above 150 seconds : 13\n"
          ],
          "name": "stdout"
        },
        {
          "output_type": "display_data",
          "data": {
            "image/png": "[encoded data removed]",
            "text/plain": [
              "<Figure size 432x288 with 1 Axes>"
            ]
          },
          "metadata": {
            "tags": [],
            "needs_background": "light"
          }
        }
      ]
    },
    {
      "cell_type": "code",
      "metadata": {
        "id": "nKSEmQxqJn9c"
      },
      "source": [
        "duration = []\n",
        "count = 0\n",
        "frequency = 2048 #Hz\n",
        "for i in range(dataset_b_ictal.shape[0]):\n",
        "  duration.append(len(dataset_b_ictal.b_ictal[i])/2048)\n",
        "  # if (duration[i] > 150):\n",
        "  #   count += 1\n",
        "\n",
        "plt.bar([i for i in range(92)], duration)\n",
        "plt.xlabel(\"Samples\")\n",
        "plt.ylabel(\"Duration in seconds\")\n",
        "\n",
        "#print(\"Number of samples having duration above 150 seconds :\", count)"
      ],
      "execution_count": null,
      "outputs": []
    },
    {
      "cell_type": "code",
      "metadata": {
        "id": "oxj-8qXgJ9yg"
      },
      "source": [
        "duration = []\n",
        "count = 0\n",
        "frequency = 2048 #Hz\n",
        "for i in range(dataset_a_ictal.shape[0]):\n",
        "  duration.append(len(dataset_a_ictal.a_ictal[i])/2048)\n",
        "  # if (duration[i] > 150):\n",
        "  #   count += 1\n",
        "\n",
        "plt.bar([i for i in range(92)], duration)\n",
        "plt.xlabel(\"Samples\")\n",
        "plt.ylabel(\"Duration in seconds\")\n",
        "\n",
        "#print(\"Number of samples having duration above 150 seconds :\", count)"
      ],
      "execution_count": null,
      "outputs": []
    },
    {
      "cell_type": "code",
      "metadata": {
        "id": "fhRKNkJxthrx"
      },
      "source": [
        "data_b_ictal = data_b_ictal.loc[:,0:data_ictal.shape[1]]"
      ],
      "execution_count": null,
      "outputs": []
    },
    {
      "cell_type": "code",
      "metadata": {
        "id": "-E6Tn_srsPea"
      },
      "source": [
        "dataset_a_ictal = pd.DataFrame({'a_ictal': data_sep[:, 2]})\n",
        "data_a_ictal = pd.concat([dataset_a_ictal.a_ictal.apply(pd.Series)], axis=1)"
      ],
      "execution_count": null,
      "outputs": []
    },
    {
      "cell_type": "code",
      "metadata": {
        "id": "9fLYENPawn4e"
      },
      "source": [
        "data_a_ictal = data_b_ictal.loc[:,0:data_ictal.shape[1]]"
      ],
      "execution_count": null,
      "outputs": []
    },
    {
      "cell_type": "code",
      "metadata": {
        "id": "9JsFhD0aLT8W"
      },
      "source": [
        "data_b_ictal['y'] = 1"
      ],
      "execution_count": null,
      "outputs": []
    },
    {
      "cell_type": "code",
      "metadata": {
        "id": "v2GLt5vFLgFy"
      },
      "source": [
        "data_b_ictal_drop = data_b_ictal.iloc[10:].copy()\n",
        "del data_b_ictal"
      ],
      "execution_count": null,
      "outputs": []
    },
    {
      "cell_type": "code",
      "metadata": {
        "id": "YhgS1DxOMPY9"
      },
      "source": [
        "# data_ictal = pd.concat([dataset.ictal.apply(pd.Series)], axis=1)\n",
        "# data_ictal = data_ictal.fillna(data_ictal.mean())\n",
        "data_ictal['y'] = 2"
      ],
      "execution_count": null,
      "outputs": []
    },
    {
      "cell_type": "code",
      "metadata": {
        "id": "JTWju-crMYmw"
      },
      "source": [
        "data_ictal_drop = data_ictal.iloc[10:].copy()\n",
        "del data_ictal"
      ],
      "execution_count": null,
      "outputs": []
    },
    {
      "cell_type": "code",
      "metadata": {
        "id": "gaLBtd37lzQz",
        "outputId": "32f6a947-0eb1-46bd-83e4-e9ca1f7f1ce9",
        "colab": {
          "base_uri": "https://localhost:8080/",
          "height": 256
        }
      },
      "source": [
        "data_ictal_drop.head()"
      ],
      "execution_count": null,
      "outputs": [
        {
          "output_type": "execute_result",
          "data": {
            "text/html": [
              "<div>\n",
              "<style scoped>\n",
              "    .dataframe tbody tr th:only-of-type {\n",
              "        vertical-align: middle;\n",
              "    }\n",
              "\n",
              "    .dataframe tbody tr th {\n",
              "        vertical-align: top;\n",
              "    }\n",
              "\n",
              "    .dataframe thead th {\n",
              "        text-align: right;\n",
              "    }\n",
              "</style>\n",
              "<table border=\"1\" class=\"dataframe\">\n",
              "  <thead>\n",
              "    <tr style=\"text-align: right;\">\n",
              "      <th></th>\n",
              "      <th>0</th>\n",
              "      <th>1</th>\n",
              "      <th>2</th>\n",
              "      <th>3</th>\n",
              "      <th>4</th>\n",
              "      <th>5</th>\n",
              "      <th>6</th>\n",
              "      <th>7</th>\n",
              "      <th>8</th>\n",
              "      <th>9</th>\n",
              "      <th>10</th>\n",
              "      <th>11</th>\n",
              "      <th>12</th>\n",
              "      <th>13</th>\n",
              "      <th>14</th>\n",
              "      <th>15</th>\n",
              "      <th>16</th>\n",
              "      <th>17</th>\n",
              "      <th>18</th>\n",
              "      <th>19</th>\n",
              "      <th>20</th>\n",
              "      <th>21</th>\n",
              "      <th>22</th>\n",
              "      <th>23</th>\n",
              "      <th>24</th>\n",
              "      <th>25</th>\n",
              "      <th>26</th>\n",
              "      <th>27</th>\n",
              "      <th>28</th>\n",
              "      <th>29</th>\n",
              "      <th>30</th>\n",
              "      <th>31</th>\n",
              "      <th>32</th>\n",
              "      <th>33</th>\n",
              "      <th>34</th>\n",
              "      <th>35</th>\n",
              "      <th>36</th>\n",
              "      <th>37</th>\n",
              "      <th>38</th>\n",
              "      <th>39</th>\n",
              "      <th>...</th>\n",
              "      <th>617754</th>\n",
              "      <th>617755</th>\n",
              "      <th>617756</th>\n",
              "      <th>617757</th>\n",
              "      <th>617758</th>\n",
              "      <th>617759</th>\n",
              "      <th>617760</th>\n",
              "      <th>617761</th>\n",
              "      <th>617762</th>\n",
              "      <th>617763</th>\n",
              "      <th>617764</th>\n",
              "      <th>617765</th>\n",
              "      <th>617766</th>\n",
              "      <th>617767</th>\n",
              "      <th>617768</th>\n",
              "      <th>617769</th>\n",
              "      <th>617770</th>\n",
              "      <th>617771</th>\n",
              "      <th>617772</th>\n",
              "      <th>617773</th>\n",
              "      <th>617774</th>\n",
              "      <th>617775</th>\n",
              "      <th>617776</th>\n",
              "      <th>617777</th>\n",
              "      <th>617778</th>\n",
              "      <th>617779</th>\n",
              "      <th>617780</th>\n",
              "      <th>617781</th>\n",
              "      <th>617782</th>\n",
              "      <th>617783</th>\n",
              "      <th>617784</th>\n",
              "      <th>617785</th>\n",
              "      <th>617786</th>\n",
              "      <th>617787</th>\n",
              "      <th>617788</th>\n",
              "      <th>617789</th>\n",
              "      <th>617790</th>\n",
              "      <th>617791</th>\n",
              "      <th>617792</th>\n",
              "      <th>y</th>\n",
              "    </tr>\n",
              "  </thead>\n",
              "  <tbody>\n",
              "    <tr>\n",
              "      <th>10</th>\n",
              "      <td>-9.256652</td>\n",
              "      <td>-6.092211</td>\n",
              "      <td>-6.381828</td>\n",
              "      <td>-5.073729</td>\n",
              "      <td>-3.230614</td>\n",
              "      <td>-6.168795</td>\n",
              "      <td>-2.190807</td>\n",
              "      <td>-3.525137</td>\n",
              "      <td>-5.918223</td>\n",
              "      <td>-6.445928</td>\n",
              "      <td>-6.171869</td>\n",
              "      <td>-3.235479</td>\n",
              "      <td>-9.600165</td>\n",
              "      <td>-7.455138</td>\n",
              "      <td>-7.966500</td>\n",
              "      <td>-10.603326</td>\n",
              "      <td>-4.732691</td>\n",
              "      <td>-8.166792</td>\n",
              "      <td>-9.741042</td>\n",
              "      <td>-7.861167</td>\n",
              "      <td>-8.376366</td>\n",
              "      <td>-8.894637</td>\n",
              "      <td>-8.884790</td>\n",
              "      <td>-7.283802</td>\n",
              "      <td>-9.940437</td>\n",
              "      <td>-4.891849</td>\n",
              "      <td>-5.695906</td>\n",
              "      <td>-12.884149</td>\n",
              "      <td>-8.113223</td>\n",
              "      <td>-8.662456</td>\n",
              "      <td>-9.746121</td>\n",
              "      <td>-10.300256</td>\n",
              "      <td>-10.324190</td>\n",
              "      <td>-5.031978</td>\n",
              "      <td>-8.512462</td>\n",
              "      <td>-10.131223</td>\n",
              "      <td>-8.026700</td>\n",
              "      <td>-10.971050</td>\n",
              "      <td>-8.329997</td>\n",
              "      <td>-7.280777</td>\n",
              "      <td>...</td>\n",
              "      <td>NaN</td>\n",
              "      <td>NaN</td>\n",
              "      <td>NaN</td>\n",
              "      <td>NaN</td>\n",
              "      <td>NaN</td>\n",
              "      <td>NaN</td>\n",
              "      <td>NaN</td>\n",
              "      <td>NaN</td>\n",
              "      <td>NaN</td>\n",
              "      <td>NaN</td>\n",
              "      <td>NaN</td>\n",
              "      <td>NaN</td>\n",
              "      <td>NaN</td>\n",
              "      <td>NaN</td>\n",
              "      <td>NaN</td>\n",
              "      <td>NaN</td>\n",
              "      <td>NaN</td>\n",
              "      <td>NaN</td>\n",
              "      <td>NaN</td>\n",
              "      <td>NaN</td>\n",
              "      <td>NaN</td>\n",
              "      <td>NaN</td>\n",
              "      <td>NaN</td>\n",
              "      <td>NaN</td>\n",
              "      <td>NaN</td>\n",
              "      <td>NaN</td>\n",
              "      <td>NaN</td>\n",
              "      <td>NaN</td>\n",
              "      <td>NaN</td>\n",
              "      <td>NaN</td>\n",
              "      <td>NaN</td>\n",
              "      <td>NaN</td>\n",
              "      <td>NaN</td>\n",
              "      <td>NaN</td>\n",
              "      <td>NaN</td>\n",
              "      <td>NaN</td>\n",
              "      <td>NaN</td>\n",
              "      <td>NaN</td>\n",
              "      <td>NaN</td>\n",
              "      <td>2</td>\n",
              "    </tr>\n",
              "    <tr>\n",
              "      <th>11</th>\n",
              "      <td>1.026265</td>\n",
              "      <td>-2.186283</td>\n",
              "      <td>-6.194787</td>\n",
              "      <td>-0.630765</td>\n",
              "      <td>-1.178282</td>\n",
              "      <td>-1.988273</td>\n",
              "      <td>-1.997019</td>\n",
              "      <td>-4.394423</td>\n",
              "      <td>-2.268496</td>\n",
              "      <td>-3.328702</td>\n",
              "      <td>-4.650949</td>\n",
              "      <td>-3.842974</td>\n",
              "      <td>-3.829449</td>\n",
              "      <td>-2.484117</td>\n",
              "      <td>-3.529348</td>\n",
              "      <td>-0.585547</td>\n",
              "      <td>-1.362805</td>\n",
              "      <td>-5.330173</td>\n",
              "      <td>-0.791321</td>\n",
              "      <td>-1.039012</td>\n",
              "      <td>-2.617892</td>\n",
              "      <td>0.320021</td>\n",
              "      <td>0.596552</td>\n",
              "      <td>-3.383723</td>\n",
              "      <td>-3.645847</td>\n",
              "      <td>-2.848408</td>\n",
              "      <td>-2.320593</td>\n",
              "      <td>-3.125626</td>\n",
              "      <td>-1.009756</td>\n",
              "      <td>1.103173</td>\n",
              "      <td>-4.761647</td>\n",
              "      <td>-2.653179</td>\n",
              "      <td>-0.546086</td>\n",
              "      <td>-1.629778</td>\n",
              "      <td>-4.308553</td>\n",
              "      <td>-1.404024</td>\n",
              "      <td>1.235967</td>\n",
              "      <td>-3.034017</td>\n",
              "      <td>1.205404</td>\n",
              "      <td>1.460100</td>\n",
              "      <td>...</td>\n",
              "      <td>NaN</td>\n",
              "      <td>NaN</td>\n",
              "      <td>NaN</td>\n",
              "      <td>NaN</td>\n",
              "      <td>NaN</td>\n",
              "      <td>NaN</td>\n",
              "      <td>NaN</td>\n",
              "      <td>NaN</td>\n",
              "      <td>NaN</td>\n",
              "      <td>NaN</td>\n",
              "      <td>NaN</td>\n",
              "      <td>NaN</td>\n",
              "      <td>NaN</td>\n",
              "      <td>NaN</td>\n",
              "      <td>NaN</td>\n",
              "      <td>NaN</td>\n",
              "      <td>NaN</td>\n",
              "      <td>NaN</td>\n",
              "      <td>NaN</td>\n",
              "      <td>NaN</td>\n",
              "      <td>NaN</td>\n",
              "      <td>NaN</td>\n",
              "      <td>NaN</td>\n",
              "      <td>NaN</td>\n",
              "      <td>NaN</td>\n",
              "      <td>NaN</td>\n",
              "      <td>NaN</td>\n",
              "      <td>NaN</td>\n",
              "      <td>NaN</td>\n",
              "      <td>NaN</td>\n",
              "      <td>NaN</td>\n",
              "      <td>NaN</td>\n",
              "      <td>NaN</td>\n",
              "      <td>NaN</td>\n",
              "      <td>NaN</td>\n",
              "      <td>NaN</td>\n",
              "      <td>NaN</td>\n",
              "      <td>NaN</td>\n",
              "      <td>NaN</td>\n",
              "      <td>2</td>\n",
              "    </tr>\n",
              "    <tr>\n",
              "      <th>12</th>\n",
              "      <td>-0.593641</td>\n",
              "      <td>-1.917383</td>\n",
              "      <td>-1.914152</td>\n",
              "      <td>-0.318224</td>\n",
              "      <td>-0.319716</td>\n",
              "      <td>-1.652733</td>\n",
              "      <td>0.202177</td>\n",
              "      <td>0.725927</td>\n",
              "      <td>-4.068859</td>\n",
              "      <td>-1.421451</td>\n",
              "      <td>1.756670</td>\n",
              "      <td>1.744219</td>\n",
              "      <td>-0.660824</td>\n",
              "      <td>-2.267967</td>\n",
              "      <td>1.176680</td>\n",
              "      <td>-2.555233</td>\n",
              "      <td>-3.361373</td>\n",
              "      <td>0.885293</td>\n",
              "      <td>-1.512022</td>\n",
              "      <td>-1.780353</td>\n",
              "      <td>1.143755</td>\n",
              "      <td>1.677665</td>\n",
              "      <td>-0.976225</td>\n",
              "      <td>-0.703750</td>\n",
              "      <td>0.899783</td>\n",
              "      <td>2.770737</td>\n",
              "      <td>1.718667</td>\n",
              "      <td>1.464943</td>\n",
              "      <td>2.009100</td>\n",
              "      <td>-0.371144</td>\n",
              "      <td>-1.156976</td>\n",
              "      <td>-0.880560</td>\n",
              "      <td>-1.403202</td>\n",
              "      <td>1.794103</td>\n",
              "      <td>1.799227</td>\n",
              "      <td>-0.856341</td>\n",
              "      <td>1.802538</td>\n",
              "      <td>1.534735</td>\n",
              "      <td>-1.393856</td>\n",
              "      <td>1.523844</td>\n",
              "      <td>...</td>\n",
              "      <td>NaN</td>\n",
              "      <td>NaN</td>\n",
              "      <td>NaN</td>\n",
              "      <td>NaN</td>\n",
              "      <td>NaN</td>\n",
              "      <td>NaN</td>\n",
              "      <td>NaN</td>\n",
              "      <td>NaN</td>\n",
              "      <td>NaN</td>\n",
              "      <td>NaN</td>\n",
              "      <td>NaN</td>\n",
              "      <td>NaN</td>\n",
              "      <td>NaN</td>\n",
              "      <td>NaN</td>\n",
              "      <td>NaN</td>\n",
              "      <td>NaN</td>\n",
              "      <td>NaN</td>\n",
              "      <td>NaN</td>\n",
              "      <td>NaN</td>\n",
              "      <td>NaN</td>\n",
              "      <td>NaN</td>\n",
              "      <td>NaN</td>\n",
              "      <td>NaN</td>\n",
              "      <td>NaN</td>\n",
              "      <td>NaN</td>\n",
              "      <td>NaN</td>\n",
              "      <td>NaN</td>\n",
              "      <td>NaN</td>\n",
              "      <td>NaN</td>\n",
              "      <td>NaN</td>\n",
              "      <td>NaN</td>\n",
              "      <td>NaN</td>\n",
              "      <td>NaN</td>\n",
              "      <td>NaN</td>\n",
              "      <td>NaN</td>\n",
              "      <td>NaN</td>\n",
              "      <td>NaN</td>\n",
              "      <td>NaN</td>\n",
              "      <td>NaN</td>\n",
              "      <td>2</td>\n",
              "    </tr>\n",
              "    <tr>\n",
              "      <th>13</th>\n",
              "      <td>1.141022</td>\n",
              "      <td>-2.330832</td>\n",
              "      <td>-1.554551</td>\n",
              "      <td>0.280452</td>\n",
              "      <td>-1.875957</td>\n",
              "      <td>-1.110900</td>\n",
              "      <td>2.576727</td>\n",
              "      <td>0.946993</td>\n",
              "      <td>-3.074724</td>\n",
              "      <td>-2.575485</td>\n",
              "      <td>-2.073580</td>\n",
              "      <td>1.622117</td>\n",
              "      <td>2.663990</td>\n",
              "      <td>-2.137388</td>\n",
              "      <td>2.371468</td>\n",
              "      <td>1.303689</td>\n",
              "      <td>-2.948079</td>\n",
              "      <td>-0.016162</td>\n",
              "      <td>-0.002899</td>\n",
              "      <td>2.408093</td>\n",
              "      <td>-0.227457</td>\n",
              "      <td>-0.466832</td>\n",
              "      <td>0.891455</td>\n",
              "      <td>0.390413</td>\n",
              "      <td>0.155680</td>\n",
              "      <td>-5.130772</td>\n",
              "      <td>-2.975505</td>\n",
              "      <td>-4.013257</td>\n",
              "      <td>-1.864686</td>\n",
              "      <td>3.735366</td>\n",
              "      <td>-0.771601</td>\n",
              "      <td>2.159586</td>\n",
              "      <td>1.097445</td>\n",
              "      <td>-4.489813</td>\n",
              "      <td>0.816762</td>\n",
              "      <td>-1.059768</td>\n",
              "      <td>-4.004517</td>\n",
              "      <td>-1.636630</td>\n",
              "      <td>0.462057</td>\n",
              "      <td>1.495024</td>\n",
              "      <td>...</td>\n",
              "      <td>NaN</td>\n",
              "      <td>NaN</td>\n",
              "      <td>NaN</td>\n",
              "      <td>NaN</td>\n",
              "      <td>NaN</td>\n",
              "      <td>NaN</td>\n",
              "      <td>NaN</td>\n",
              "      <td>NaN</td>\n",
              "      <td>NaN</td>\n",
              "      <td>NaN</td>\n",
              "      <td>NaN</td>\n",
              "      <td>NaN</td>\n",
              "      <td>NaN</td>\n",
              "      <td>NaN</td>\n",
              "      <td>NaN</td>\n",
              "      <td>NaN</td>\n",
              "      <td>NaN</td>\n",
              "      <td>NaN</td>\n",
              "      <td>NaN</td>\n",
              "      <td>NaN</td>\n",
              "      <td>NaN</td>\n",
              "      <td>NaN</td>\n",
              "      <td>NaN</td>\n",
              "      <td>NaN</td>\n",
              "      <td>NaN</td>\n",
              "      <td>NaN</td>\n",
              "      <td>NaN</td>\n",
              "      <td>NaN</td>\n",
              "      <td>NaN</td>\n",
              "      <td>NaN</td>\n",
              "      <td>NaN</td>\n",
              "      <td>NaN</td>\n",
              "      <td>NaN</td>\n",
              "      <td>NaN</td>\n",
              "      <td>NaN</td>\n",
              "      <td>NaN</td>\n",
              "      <td>NaN</td>\n",
              "      <td>NaN</td>\n",
              "      <td>NaN</td>\n",
              "      <td>2</td>\n",
              "    </tr>\n",
              "    <tr>\n",
              "      <th>14</th>\n",
              "      <td>0.721105</td>\n",
              "      <td>2.879381</td>\n",
              "      <td>1.320843</td>\n",
              "      <td>0.563559</td>\n",
              "      <td>-0.988948</td>\n",
              "      <td>1.712861</td>\n",
              "      <td>1.755617</td>\n",
              "      <td>-0.862162</td>\n",
              "      <td>2.365060</td>\n",
              "      <td>-0.261080</td>\n",
              "      <td>-1.563993</td>\n",
              "      <td>0.316263</td>\n",
              "      <td>0.859704</td>\n",
              "      <td>1.129311</td>\n",
              "      <td>1.656640</td>\n",
              "      <td>2.973543</td>\n",
              "      <td>0.295270</td>\n",
              "      <td>-1.060696</td>\n",
              "      <td>-0.295945</td>\n",
              "      <td>0.995619</td>\n",
              "      <td>3.612896</td>\n",
              "      <td>2.506370</td>\n",
              "      <td>0.867657</td>\n",
              "      <td>0.293304</td>\n",
              "      <td>-0.278582</td>\n",
              "      <td>2.875242</td>\n",
              "      <td>2.844219</td>\n",
              "      <td>3.351302</td>\n",
              "      <td>2.270648</td>\n",
              "      <td>1.197932</td>\n",
              "      <td>1.728556</td>\n",
              "      <td>-0.656743</td>\n",
              "      <td>-0.641359</td>\n",
              "      <td>2.837605</td>\n",
              "      <td>0.209101</td>\n",
              "      <td>-1.350144</td>\n",
              "      <td>2.146288</td>\n",
              "      <td>-2.595097</td>\n",
              "      <td>-0.422787</td>\n",
              "      <td>-0.642831</td>\n",
              "      <td>...</td>\n",
              "      <td>NaN</td>\n",
              "      <td>NaN</td>\n",
              "      <td>NaN</td>\n",
              "      <td>NaN</td>\n",
              "      <td>NaN</td>\n",
              "      <td>NaN</td>\n",
              "      <td>NaN</td>\n",
              "      <td>NaN</td>\n",
              "      <td>NaN</td>\n",
              "      <td>NaN</td>\n",
              "      <td>NaN</td>\n",
              "      <td>NaN</td>\n",
              "      <td>NaN</td>\n",
              "      <td>NaN</td>\n",
              "      <td>NaN</td>\n",
              "      <td>NaN</td>\n",
              "      <td>NaN</td>\n",
              "      <td>NaN</td>\n",
              "      <td>NaN</td>\n",
              "      <td>NaN</td>\n",
              "      <td>NaN</td>\n",
              "      <td>NaN</td>\n",
              "      <td>NaN</td>\n",
              "      <td>NaN</td>\n",
              "      <td>NaN</td>\n",
              "      <td>NaN</td>\n",
              "      <td>NaN</td>\n",
              "      <td>NaN</td>\n",
              "      <td>NaN</td>\n",
              "      <td>NaN</td>\n",
              "      <td>NaN</td>\n",
              "      <td>NaN</td>\n",
              "      <td>NaN</td>\n",
              "      <td>NaN</td>\n",
              "      <td>NaN</td>\n",
              "      <td>NaN</td>\n",
              "      <td>NaN</td>\n",
              "      <td>NaN</td>\n",
              "      <td>NaN</td>\n",
              "      <td>2</td>\n",
              "    </tr>\n",
              "  </tbody>\n",
              "</table>\n",
              "<p>5 rows × 617794 columns</p>\n",
              "</div>"
            ],
            "text/plain": [
              "           0         1         2         3  ...  617790  617791  617792  y\n",
              "10 -9.256652 -6.092211 -6.381828 -5.073729  ...     NaN     NaN     NaN  2\n",
              "11  1.026265 -2.186283 -6.194787 -0.630765  ...     NaN     NaN     NaN  2\n",
              "12 -0.593641 -1.917383 -1.914152 -0.318224  ...     NaN     NaN     NaN  2\n",
              "13  1.141022 -2.330832 -1.554551  0.280452  ...     NaN     NaN     NaN  2\n",
              "14  0.721105  2.879381  1.320843  0.563559  ...     NaN     NaN     NaN  2\n",
              "\n",
              "[5 rows x 617794 columns]"
            ]
          },
          "metadata": {
            "tags": []
          },
          "execution_count": 19
        }
      ]
    },
    {
      "cell_type": "code",
      "metadata": {
        "id": "aj4Fye-LGaLm"
      },
      "source": [
        "# data_a_ictal = pd.concat([dataset.a_ictal.apply(pd.Series)], axis=1)\n",
        "# data_a_ictal = data_a_ictal.fillna(data_a_ictal.mean())\n",
        "data_a_ictal['y'] = 3"
      ],
      "execution_count": null,
      "outputs": []
    },
    {
      "cell_type": "code",
      "metadata": {
        "id": "rAhXOZfWRtxL"
      },
      "source": [
        "data_a_ictal_drop = data_a_ictal.iloc[10:].copy()\n",
        "del data_a_ictal"
      ],
      "execution_count": null,
      "outputs": []
    },
    {
      "cell_type": "code",
      "metadata": {
        "id": "Di_zqXV4Mpjs"
      },
      "source": [
        "del dataset"
      ],
      "execution_count": null,
      "outputs": []
    },
    {
      "cell_type": "code",
      "metadata": {
        "id": "VxJbLedxiSHb"
      },
      "source": [
        "merged_df = pd.concat([data_b_ictal, data_ictal, data_a_ictal])\n"
      ],
      "execution_count": null,
      "outputs": []
    },
    {
      "cell_type": "code",
      "metadata": {
        "id": "cMrZBJzMx0wW"
      },
      "source": [
        "merged_df = merged_df.fillna(0)"
      ],
      "execution_count": null,
      "outputs": []
    },
    {
      "cell_type": "code",
      "metadata": {
        "id": "x9NX7CAkG7DH"
      },
      "source": [
        "merged_df.reset_index(inplace = True,drop = True)"
      ],
      "execution_count": null,
      "outputs": []
    },
    {
      "cell_type": "markdown",
      "metadata": {
        "id": "XSVvZSfj7rVE"
      },
      "source": [
        "Down Sampling\n"
      ]
    },
    {
      "cell_type": "code",
      "metadata": {
        "id": "zFCNAdKgEJb9"
      },
      "source": [
        "merged_df.head()"
      ],
      "execution_count": null,
      "outputs": []
    },
    {
      "cell_type": "code",
      "metadata": {
        "id": "DL89qGP17q1j"
      },
      "source": [
        "labels_y = merged_df['y']\n",
        "merged_df = merged_df.drop(columns=['y'])\n",
        "resampled_signal = [resample_by_interpolation(merged_df.iloc[i].to_numpy(), 2048, 256) for i in range(len(merged_df))]\n",
        "resampled_signal = np.array(resampled_signal)\n",
        "df = pd.DataFrame(data = resampled_signal) "
      ],
      "execution_count": null,
      "outputs": []
    },
    {
      "cell_type": "code",
      "metadata": {
        "id": "_ZvA2EEvMwiG"
      },
      "source": [
        "del merged_df"
      ],
      "execution_count": null,
      "outputs": []
    },
    {
      "cell_type": "code",
      "metadata": {
        "id": "bdwaNKN3YW9F",
        "outputId": "f1caca7d-789e-48be-8ab3-d229471fb70a",
        "colab": {
          "base_uri": "https://localhost:8080/",
          "height": 304
        }
      },
      "source": [
        "#read in dataset from csv\n",
        "df.index.name = \"Patient_ID\"\n",
        "df.columns.name =\"timepoints\"\n",
        "print(f\"There are {len(df)} samples, each with 256 timestamps over 1 second (2048Hz sampling rate)\")\n",
        "df.head() # a preview of the dataset"
      ],
      "execution_count": null,
      "outputs": [
        {
          "output_type": "stream",
          "text": [
            "There are 276 samples, each with 256 timestamps over 1 second (2048Hz sampling rate)\n"
          ],
          "name": "stdout"
        },
        {
          "output_type": "execute_result",
          "data": {
            "text/html": [
              "<div>\n",
              "<style scoped>\n",
              "    .dataframe tbody tr th:only-of-type {\n",
              "        vertical-align: middle;\n",
              "    }\n",
              "\n",
              "    .dataframe tbody tr th {\n",
              "        vertical-align: top;\n",
              "    }\n",
              "\n",
              "    .dataframe thead th {\n",
              "        text-align: right;\n",
              "    }\n",
              "</style>\n",
              "<table border=\"1\" class=\"dataframe\">\n",
              "  <thead>\n",
              "    <tr style=\"text-align: right;\">\n",
              "      <th>timepoints</th>\n",
              "      <th>0</th>\n",
              "      <th>1</th>\n",
              "      <th>2</th>\n",
              "      <th>3</th>\n",
              "      <th>4</th>\n",
              "      <th>5</th>\n",
              "      <th>6</th>\n",
              "      <th>7</th>\n",
              "      <th>8</th>\n",
              "      <th>9</th>\n",
              "      <th>10</th>\n",
              "      <th>11</th>\n",
              "      <th>12</th>\n",
              "      <th>13</th>\n",
              "      <th>14</th>\n",
              "      <th>15</th>\n",
              "      <th>16</th>\n",
              "      <th>17</th>\n",
              "      <th>18</th>\n",
              "      <th>19</th>\n",
              "      <th>20</th>\n",
              "      <th>21</th>\n",
              "      <th>22</th>\n",
              "      <th>23</th>\n",
              "      <th>24</th>\n",
              "      <th>25</th>\n",
              "      <th>26</th>\n",
              "      <th>27</th>\n",
              "      <th>28</th>\n",
              "      <th>29</th>\n",
              "      <th>30</th>\n",
              "      <th>31</th>\n",
              "      <th>32</th>\n",
              "      <th>33</th>\n",
              "      <th>34</th>\n",
              "      <th>35</th>\n",
              "      <th>36</th>\n",
              "      <th>37</th>\n",
              "      <th>38</th>\n",
              "      <th>39</th>\n",
              "      <th>...</th>\n",
              "      <th>77184</th>\n",
              "      <th>77185</th>\n",
              "      <th>77186</th>\n",
              "      <th>77187</th>\n",
              "      <th>77188</th>\n",
              "      <th>77189</th>\n",
              "      <th>77190</th>\n",
              "      <th>77191</th>\n",
              "      <th>77192</th>\n",
              "      <th>77193</th>\n",
              "      <th>77194</th>\n",
              "      <th>77195</th>\n",
              "      <th>77196</th>\n",
              "      <th>77197</th>\n",
              "      <th>77198</th>\n",
              "      <th>77199</th>\n",
              "      <th>77200</th>\n",
              "      <th>77201</th>\n",
              "      <th>77202</th>\n",
              "      <th>77203</th>\n",
              "      <th>77204</th>\n",
              "      <th>77205</th>\n",
              "      <th>77206</th>\n",
              "      <th>77207</th>\n",
              "      <th>77208</th>\n",
              "      <th>77209</th>\n",
              "      <th>77210</th>\n",
              "      <th>77211</th>\n",
              "      <th>77212</th>\n",
              "      <th>77213</th>\n",
              "      <th>77214</th>\n",
              "      <th>77215</th>\n",
              "      <th>77216</th>\n",
              "      <th>77217</th>\n",
              "      <th>77218</th>\n",
              "      <th>77219</th>\n",
              "      <th>77220</th>\n",
              "      <th>77221</th>\n",
              "      <th>77222</th>\n",
              "      <th>77223</th>\n",
              "    </tr>\n",
              "    <tr>\n",
              "      <th>Patient_ID</th>\n",
              "      <th></th>\n",
              "      <th></th>\n",
              "      <th></th>\n",
              "      <th></th>\n",
              "      <th></th>\n",
              "      <th></th>\n",
              "      <th></th>\n",
              "      <th></th>\n",
              "      <th></th>\n",
              "      <th></th>\n",
              "      <th></th>\n",
              "      <th></th>\n",
              "      <th></th>\n",
              "      <th></th>\n",
              "      <th></th>\n",
              "      <th></th>\n",
              "      <th></th>\n",
              "      <th></th>\n",
              "      <th></th>\n",
              "      <th></th>\n",
              "      <th></th>\n",
              "      <th></th>\n",
              "      <th></th>\n",
              "      <th></th>\n",
              "      <th></th>\n",
              "      <th></th>\n",
              "      <th></th>\n",
              "      <th></th>\n",
              "      <th></th>\n",
              "      <th></th>\n",
              "      <th></th>\n",
              "      <th></th>\n",
              "      <th></th>\n",
              "      <th></th>\n",
              "      <th></th>\n",
              "      <th></th>\n",
              "      <th></th>\n",
              "      <th></th>\n",
              "      <th></th>\n",
              "      <th></th>\n",
              "      <th></th>\n",
              "      <th></th>\n",
              "      <th></th>\n",
              "      <th></th>\n",
              "      <th></th>\n",
              "      <th></th>\n",
              "      <th></th>\n",
              "      <th></th>\n",
              "      <th></th>\n",
              "      <th></th>\n",
              "      <th></th>\n",
              "      <th></th>\n",
              "      <th></th>\n",
              "      <th></th>\n",
              "      <th></th>\n",
              "      <th></th>\n",
              "      <th></th>\n",
              "      <th></th>\n",
              "      <th></th>\n",
              "      <th></th>\n",
              "      <th></th>\n",
              "      <th></th>\n",
              "      <th></th>\n",
              "      <th></th>\n",
              "      <th></th>\n",
              "      <th></th>\n",
              "      <th></th>\n",
              "      <th></th>\n",
              "      <th></th>\n",
              "      <th></th>\n",
              "      <th></th>\n",
              "      <th></th>\n",
              "      <th></th>\n",
              "      <th></th>\n",
              "      <th></th>\n",
              "      <th></th>\n",
              "      <th></th>\n",
              "      <th></th>\n",
              "      <th></th>\n",
              "      <th></th>\n",
              "      <th></th>\n",
              "    </tr>\n",
              "  </thead>\n",
              "  <tbody>\n",
              "    <tr>\n",
              "      <th>0</th>\n",
              "      <td>-5.804836</td>\n",
              "      <td>-9.670146</td>\n",
              "      <td>-10.012926</td>\n",
              "      <td>-11.794887</td>\n",
              "      <td>-6.230398</td>\n",
              "      <td>-0.649600</td>\n",
              "      <td>-2.965436</td>\n",
              "      <td>-3.864574</td>\n",
              "      <td>-0.749431</td>\n",
              "      <td>7.259556</td>\n",
              "      <td>6.782091</td>\n",
              "      <td>-2.877376</td>\n",
              "      <td>6.885347</td>\n",
              "      <td>0.777320</td>\n",
              "      <td>2.759816</td>\n",
              "      <td>-1.959165</td>\n",
              "      <td>-6.144644</td>\n",
              "      <td>-5.215559</td>\n",
              "      <td>-3.918065</td>\n",
              "      <td>0.600367</td>\n",
              "      <td>3.590392</td>\n",
              "      <td>7.523138</td>\n",
              "      <td>-0.117088</td>\n",
              "      <td>-3.578115</td>\n",
              "      <td>-5.995090</td>\n",
              "      <td>5.042473</td>\n",
              "      <td>9.871916</td>\n",
              "      <td>6.249010</td>\n",
              "      <td>7.117499</td>\n",
              "      <td>7.472339</td>\n",
              "      <td>12.326382</td>\n",
              "      <td>21.986688</td>\n",
              "      <td>26.032920</td>\n",
              "      <td>29.608065</td>\n",
              "      <td>38.132088</td>\n",
              "      <td>36.163577</td>\n",
              "      <td>40.152439</td>\n",
              "      <td>40.564922</td>\n",
              "      <td>49.111185</td>\n",
              "      <td>44.928997</td>\n",
              "      <td>...</td>\n",
              "      <td>0.0</td>\n",
              "      <td>0.0</td>\n",
              "      <td>0.0</td>\n",
              "      <td>0.0</td>\n",
              "      <td>0.0</td>\n",
              "      <td>0.0</td>\n",
              "      <td>0.0</td>\n",
              "      <td>0.0</td>\n",
              "      <td>0.0</td>\n",
              "      <td>0.0</td>\n",
              "      <td>0.0</td>\n",
              "      <td>0.0</td>\n",
              "      <td>0.0</td>\n",
              "      <td>0.0</td>\n",
              "      <td>0.0</td>\n",
              "      <td>0.0</td>\n",
              "      <td>0.0</td>\n",
              "      <td>0.0</td>\n",
              "      <td>0.0</td>\n",
              "      <td>0.0</td>\n",
              "      <td>0.0</td>\n",
              "      <td>0.0</td>\n",
              "      <td>0.0</td>\n",
              "      <td>0.0</td>\n",
              "      <td>0.0</td>\n",
              "      <td>0.0</td>\n",
              "      <td>0.0</td>\n",
              "      <td>0.0</td>\n",
              "      <td>0.0</td>\n",
              "      <td>0.0</td>\n",
              "      <td>0.0</td>\n",
              "      <td>0.0</td>\n",
              "      <td>0.0</td>\n",
              "      <td>0.0</td>\n",
              "      <td>0.0</td>\n",
              "      <td>0.0</td>\n",
              "      <td>0.0</td>\n",
              "      <td>0.0</td>\n",
              "      <td>0.0</td>\n",
              "      <td>0.0</td>\n",
              "    </tr>\n",
              "    <tr>\n",
              "      <th>1</th>\n",
              "      <td>-1.262009</td>\n",
              "      <td>12.589948</td>\n",
              "      <td>5.169015</td>\n",
              "      <td>4.418880</td>\n",
              "      <td>6.797929</td>\n",
              "      <td>5.828812</td>\n",
              "      <td>9.471973</td>\n",
              "      <td>4.600965</td>\n",
              "      <td>-2.224875</td>\n",
              "      <td>-4.576244</td>\n",
              "      <td>-6.507120</td>\n",
              "      <td>-2.032751</td>\n",
              "      <td>-0.724684</td>\n",
              "      <td>-2.639317</td>\n",
              "      <td>-3.474576</td>\n",
              "      <td>-2.690510</td>\n",
              "      <td>1.194747</td>\n",
              "      <td>0.991522</td>\n",
              "      <td>0.545020</td>\n",
              "      <td>-8.614452</td>\n",
              "      <td>-2.751738</td>\n",
              "      <td>0.896129</td>\n",
              "      <td>-4.458141</td>\n",
              "      <td>-2.325525</td>\n",
              "      <td>-2.460966</td>\n",
              "      <td>-6.066630</td>\n",
              "      <td>2.196190</td>\n",
              "      <td>-1.852265</td>\n",
              "      <td>-7.488644</td>\n",
              "      <td>-2.958699</td>\n",
              "      <td>-7.077854</td>\n",
              "      <td>-2.459398</td>\n",
              "      <td>-4.523074</td>\n",
              "      <td>0.148153</td>\n",
              "      <td>-0.376541</td>\n",
              "      <td>5.400037</td>\n",
              "      <td>4.844596</td>\n",
              "      <td>7.997651</td>\n",
              "      <td>4.214970</td>\n",
              "      <td>5.287440</td>\n",
              "      <td>...</td>\n",
              "      <td>0.0</td>\n",
              "      <td>0.0</td>\n",
              "      <td>0.0</td>\n",
              "      <td>0.0</td>\n",
              "      <td>0.0</td>\n",
              "      <td>0.0</td>\n",
              "      <td>0.0</td>\n",
              "      <td>0.0</td>\n",
              "      <td>0.0</td>\n",
              "      <td>0.0</td>\n",
              "      <td>0.0</td>\n",
              "      <td>0.0</td>\n",
              "      <td>0.0</td>\n",
              "      <td>0.0</td>\n",
              "      <td>0.0</td>\n",
              "      <td>0.0</td>\n",
              "      <td>0.0</td>\n",
              "      <td>0.0</td>\n",
              "      <td>0.0</td>\n",
              "      <td>0.0</td>\n",
              "      <td>0.0</td>\n",
              "      <td>0.0</td>\n",
              "      <td>0.0</td>\n",
              "      <td>0.0</td>\n",
              "      <td>0.0</td>\n",
              "      <td>0.0</td>\n",
              "      <td>0.0</td>\n",
              "      <td>0.0</td>\n",
              "      <td>0.0</td>\n",
              "      <td>0.0</td>\n",
              "      <td>0.0</td>\n",
              "      <td>0.0</td>\n",
              "      <td>0.0</td>\n",
              "      <td>0.0</td>\n",
              "      <td>0.0</td>\n",
              "      <td>0.0</td>\n",
              "      <td>0.0</td>\n",
              "      <td>0.0</td>\n",
              "      <td>0.0</td>\n",
              "      <td>0.0</td>\n",
              "    </tr>\n",
              "    <tr>\n",
              "      <th>2</th>\n",
              "      <td>-1.366735</td>\n",
              "      <td>-7.535026</td>\n",
              "      <td>5.719729</td>\n",
              "      <td>1.138012</td>\n",
              "      <td>-0.459370</td>\n",
              "      <td>-2.439386</td>\n",
              "      <td>4.026684</td>\n",
              "      <td>3.510716</td>\n",
              "      <td>-4.747618</td>\n",
              "      <td>0.408159</td>\n",
              "      <td>-3.419006</td>\n",
              "      <td>-0.031807</td>\n",
              "      <td>-8.471622</td>\n",
              "      <td>2.724754</td>\n",
              "      <td>-3.443188</td>\n",
              "      <td>2.847205</td>\n",
              "      <td>-0.031507</td>\n",
              "      <td>6.713361</td>\n",
              "      <td>9.200010</td>\n",
              "      <td>4.762600</td>\n",
              "      <td>-1.785754</td>\n",
              "      <td>-3.013555</td>\n",
              "      <td>-1.638491</td>\n",
              "      <td>-6.523306</td>\n",
              "      <td>0.097736</td>\n",
              "      <td>-2.590875</td>\n",
              "      <td>-4.010361</td>\n",
              "      <td>-9.293970</td>\n",
              "      <td>-5.447284</td>\n",
              "      <td>-0.059017</td>\n",
              "      <td>-1.568662</td>\n",
              "      <td>-0.929394</td>\n",
              "      <td>-1.938633</td>\n",
              "      <td>0.330632</td>\n",
              "      <td>1.412377</td>\n",
              "      <td>2.104880</td>\n",
              "      <td>-4.244446</td>\n",
              "      <td>-1.971875</td>\n",
              "      <td>-9.393710</td>\n",
              "      <td>-6.025545</td>\n",
              "      <td>...</td>\n",
              "      <td>0.0</td>\n",
              "      <td>0.0</td>\n",
              "      <td>0.0</td>\n",
              "      <td>0.0</td>\n",
              "      <td>0.0</td>\n",
              "      <td>0.0</td>\n",
              "      <td>0.0</td>\n",
              "      <td>0.0</td>\n",
              "      <td>0.0</td>\n",
              "      <td>0.0</td>\n",
              "      <td>0.0</td>\n",
              "      <td>0.0</td>\n",
              "      <td>0.0</td>\n",
              "      <td>0.0</td>\n",
              "      <td>0.0</td>\n",
              "      <td>0.0</td>\n",
              "      <td>0.0</td>\n",
              "      <td>0.0</td>\n",
              "      <td>0.0</td>\n",
              "      <td>0.0</td>\n",
              "      <td>0.0</td>\n",
              "      <td>0.0</td>\n",
              "      <td>0.0</td>\n",
              "      <td>0.0</td>\n",
              "      <td>0.0</td>\n",
              "      <td>0.0</td>\n",
              "      <td>0.0</td>\n",
              "      <td>0.0</td>\n",
              "      <td>0.0</td>\n",
              "      <td>0.0</td>\n",
              "      <td>0.0</td>\n",
              "      <td>0.0</td>\n",
              "      <td>0.0</td>\n",
              "      <td>0.0</td>\n",
              "      <td>0.0</td>\n",
              "      <td>0.0</td>\n",
              "      <td>0.0</td>\n",
              "      <td>0.0</td>\n",
              "      <td>0.0</td>\n",
              "      <td>0.0</td>\n",
              "    </tr>\n",
              "    <tr>\n",
              "      <th>3</th>\n",
              "      <td>-20.758197</td>\n",
              "      <td>-20.171680</td>\n",
              "      <td>-15.560258</td>\n",
              "      <td>-10.571459</td>\n",
              "      <td>-5.580808</td>\n",
              "      <td>-9.476406</td>\n",
              "      <td>3.343752</td>\n",
              "      <td>12.334120</td>\n",
              "      <td>13.345545</td>\n",
              "      <td>15.530703</td>\n",
              "      <td>14.853615</td>\n",
              "      <td>13.391473</td>\n",
              "      <td>10.535513</td>\n",
              "      <td>13.358873</td>\n",
              "      <td>14.737844</td>\n",
              "      <td>7.983432</td>\n",
              "      <td>11.539386</td>\n",
              "      <td>14.793212</td>\n",
              "      <td>9.969175</td>\n",
              "      <td>16.800514</td>\n",
              "      <td>14.787008</td>\n",
              "      <td>9.746665</td>\n",
              "      <td>7.947743</td>\n",
              "      <td>-0.537665</td>\n",
              "      <td>2.212773</td>\n",
              "      <td>4.032241</td>\n",
              "      <td>7.120379</td>\n",
              "      <td>4.889152</td>\n",
              "      <td>0.847108</td>\n",
              "      <td>-0.614136</td>\n",
              "      <td>-3.317255</td>\n",
              "      <td>-1.847183</td>\n",
              "      <td>1.539667</td>\n",
              "      <td>6.504654</td>\n",
              "      <td>9.025764</td>\n",
              "      <td>5.334984</td>\n",
              "      <td>-3.747612</td>\n",
              "      <td>-6.938455</td>\n",
              "      <td>-14.986952</td>\n",
              "      <td>-9.583079</td>\n",
              "      <td>...</td>\n",
              "      <td>0.0</td>\n",
              "      <td>0.0</td>\n",
              "      <td>0.0</td>\n",
              "      <td>0.0</td>\n",
              "      <td>0.0</td>\n",
              "      <td>0.0</td>\n",
              "      <td>0.0</td>\n",
              "      <td>0.0</td>\n",
              "      <td>0.0</td>\n",
              "      <td>0.0</td>\n",
              "      <td>0.0</td>\n",
              "      <td>0.0</td>\n",
              "      <td>0.0</td>\n",
              "      <td>0.0</td>\n",
              "      <td>0.0</td>\n",
              "      <td>0.0</td>\n",
              "      <td>0.0</td>\n",
              "      <td>0.0</td>\n",
              "      <td>0.0</td>\n",
              "      <td>0.0</td>\n",
              "      <td>0.0</td>\n",
              "      <td>0.0</td>\n",
              "      <td>0.0</td>\n",
              "      <td>0.0</td>\n",
              "      <td>0.0</td>\n",
              "      <td>0.0</td>\n",
              "      <td>0.0</td>\n",
              "      <td>0.0</td>\n",
              "      <td>0.0</td>\n",
              "      <td>0.0</td>\n",
              "      <td>0.0</td>\n",
              "      <td>0.0</td>\n",
              "      <td>0.0</td>\n",
              "      <td>0.0</td>\n",
              "      <td>0.0</td>\n",
              "      <td>0.0</td>\n",
              "      <td>0.0</td>\n",
              "      <td>0.0</td>\n",
              "      <td>0.0</td>\n",
              "      <td>0.0</td>\n",
              "    </tr>\n",
              "    <tr>\n",
              "      <th>4</th>\n",
              "      <td>16.528982</td>\n",
              "      <td>20.537240</td>\n",
              "      <td>21.947925</td>\n",
              "      <td>27.622131</td>\n",
              "      <td>30.506062</td>\n",
              "      <td>27.327641</td>\n",
              "      <td>27.820543</td>\n",
              "      <td>27.654044</td>\n",
              "      <td>27.167384</td>\n",
              "      <td>33.933230</td>\n",
              "      <td>35.435899</td>\n",
              "      <td>32.348575</td>\n",
              "      <td>28.187102</td>\n",
              "      <td>39.906744</td>\n",
              "      <td>37.314198</td>\n",
              "      <td>36.391302</td>\n",
              "      <td>38.925810</td>\n",
              "      <td>39.837611</td>\n",
              "      <td>37.309248</td>\n",
              "      <td>38.526068</td>\n",
              "      <td>37.804777</td>\n",
              "      <td>35.094493</td>\n",
              "      <td>40.444487</td>\n",
              "      <td>42.252275</td>\n",
              "      <td>42.604306</td>\n",
              "      <td>42.433593</td>\n",
              "      <td>39.533646</td>\n",
              "      <td>46.777997</td>\n",
              "      <td>49.302180</td>\n",
              "      <td>43.058794</td>\n",
              "      <td>44.296535</td>\n",
              "      <td>40.290651</td>\n",
              "      <td>34.605578</td>\n",
              "      <td>34.777489</td>\n",
              "      <td>42.009186</td>\n",
              "      <td>40.864875</td>\n",
              "      <td>41.538931</td>\n",
              "      <td>37.813367</td>\n",
              "      <td>35.864136</td>\n",
              "      <td>38.920251</td>\n",
              "      <td>...</td>\n",
              "      <td>0.0</td>\n",
              "      <td>0.0</td>\n",
              "      <td>0.0</td>\n",
              "      <td>0.0</td>\n",
              "      <td>0.0</td>\n",
              "      <td>0.0</td>\n",
              "      <td>0.0</td>\n",
              "      <td>0.0</td>\n",
              "      <td>0.0</td>\n",
              "      <td>0.0</td>\n",
              "      <td>0.0</td>\n",
              "      <td>0.0</td>\n",
              "      <td>0.0</td>\n",
              "      <td>0.0</td>\n",
              "      <td>0.0</td>\n",
              "      <td>0.0</td>\n",
              "      <td>0.0</td>\n",
              "      <td>0.0</td>\n",
              "      <td>0.0</td>\n",
              "      <td>0.0</td>\n",
              "      <td>0.0</td>\n",
              "      <td>0.0</td>\n",
              "      <td>0.0</td>\n",
              "      <td>0.0</td>\n",
              "      <td>0.0</td>\n",
              "      <td>0.0</td>\n",
              "      <td>0.0</td>\n",
              "      <td>0.0</td>\n",
              "      <td>0.0</td>\n",
              "      <td>0.0</td>\n",
              "      <td>0.0</td>\n",
              "      <td>0.0</td>\n",
              "      <td>0.0</td>\n",
              "      <td>0.0</td>\n",
              "      <td>0.0</td>\n",
              "      <td>0.0</td>\n",
              "      <td>0.0</td>\n",
              "      <td>0.0</td>\n",
              "      <td>0.0</td>\n",
              "      <td>0.0</td>\n",
              "    </tr>\n",
              "  </tbody>\n",
              "</table>\n",
              "<p>5 rows × 77224 columns</p>\n",
              "</div>"
            ],
            "text/plain": [
              "timepoints      0          1          2      ...  77221  77222  77223\n",
              "Patient_ID                                   ...                     \n",
              "0           -5.804836  -9.670146 -10.012926  ...    0.0    0.0    0.0\n",
              "1           -1.262009  12.589948   5.169015  ...    0.0    0.0    0.0\n",
              "2           -1.366735  -7.535026   5.719729  ...    0.0    0.0    0.0\n",
              "3          -20.758197 -20.171680 -15.560258  ...    0.0    0.0    0.0\n",
              "4           16.528982  20.537240  21.947925  ...    0.0    0.0    0.0\n",
              "\n",
              "[5 rows x 77224 columns]"
            ]
          },
          "metadata": {
            "tags": []
          },
          "execution_count": 40
        }
      ]
    },
    {
      "cell_type": "markdown",
      "metadata": {
        "id": "qNsj5qJE5G_P"
      },
      "source": [
        ""
      ]
    },
    {
      "cell_type": "code",
      "metadata": {
        "id": "yZ8poq9cgN8S"
      },
      "source": [
        "df['y'] = labels_y"
      ],
      "execution_count": null,
      "outputs": []
    },
    {
      "cell_type": "markdown",
      "metadata": {
        "id": "jGSwmMCeoi3O"
      },
      "source": [
        "## Visualize sample EEG traces"
      ]
    },
    {
      "cell_type": "code",
      "metadata": {
        "id": "bmYeA48xRNms"
      },
      "source": [
        "# df_downsample = downsample(df,2048,256)"
      ],
      "execution_count": null,
      "outputs": []
    },
    {
      "cell_type": "code",
      "metadata": {
        "id": "_lEOM4zrIYKd"
      },
      "source": [
        "plot(df[df[\"y\"] == 2].indexes)"
      ],
      "execution_count": null,
      "outputs": []
    },
    {
      "cell_type": "code",
      "metadata": {
        "id": "JlWW1YC7IdjN",
        "outputId": "cc322306-987e-41b7-cd62-8de6fca8ff76",
        "colab": {
          "base_uri": "https://localhost:8080/",
          "height": 34
        }
      },
      "source": [
        "df[df[\"y\"] == 2].shape"
      ],
      "execution_count": null,
      "outputs": [
        {
          "output_type": "execute_result",
          "data": {
            "text/plain": [
              "(92, 77225)"
            ]
          },
          "metadata": {
            "tags": []
          },
          "execution_count": 77
        }
      ]
    },
    {
      "cell_type": "code",
      "metadata": {
        "id": "GycEOFHfYW9J",
        "outputId": "74074f97-708a-4287-9e99-c177c3f79ace",
        "colab": {
          "base_uri": "https://localhost:8080/",
          "height": 227
        }
      },
      "source": [
        "# Show random samples from each group\n",
        "_, axes = plt.subplots(nrows=1, ncols=3, figsize=(12,3), sharey=True)\n",
        "\n",
        "num_showing = 50  # number of traces showing from each group\n",
        "labels = [\"Before_Ictal\", \"Epileptic\", \"After_Ictal\"]\n",
        "\n",
        "for i, ax in enumerate(axes.flat):\n",
        "    ax.set_title(labels[i])\n",
        "    ax.set(xticks=np.arange(0,100,60))\n",
        "    samples = df[df[\"y\"] == (i+1)].sample(num_showing)\n",
        "    for sample in range(len(samples)):\n",
        "        ax.plot(np.arange(0,77224,1), samples.iloc[sample, :-1])\n"
      ],
      "execution_count": null,
      "outputs": [
        {
          "output_type": "display_data",
          "data": {
            "image/png": "[encoded data removed]",
            "text/plain": [
              "<Figure size 864x216 with 3 Axes>"
            ]
          },
          "metadata": {
            "tags": [],
            "needs_background": "light"
          }
        }
      ]
    },
    {
      "cell_type": "markdown",
      "metadata": {
        "id": "aGQFG27lsHKN"
      },
      "source": [
        "## Split train_test data"
      ]
    },
    {
      "cell_type": "code",
      "metadata": {
        "id": "hWZvf11ogP50"
      },
      "source": [
        "del num_showing, axes"
      ],
      "execution_count": null,
      "outputs": []
    },
    {
      "cell_type": "markdown",
      "metadata": {
        "id": "uuuR2KOkPh7G"
      },
      "source": [
        "80:20 **Split** do for 50 times and then take average\n"
      ]
    },
    {
      "cell_type": "code",
      "metadata": {
        "id": "Qr3bVcqbYW9H",
        "outputId": "4f2487fc-6abd-47a6-ab46-9d1888905162",
        "colab": {
          "base_uri": "https://localhost:8080/",
          "height": 104
        }
      },
      "source": [
        "# split pandas dataframe to 80:20 for training and testing\n",
        "train_X, test_X, train_y, test_y = train_test_split(\n",
        "    df.iloc[:, :-1], \n",
        "    df.iloc[:, -1], \n",
        "    test_size=0.2,\n",
        "    random_state=41,\n",
        ")\n",
        "\n",
        "# m_train, m_test: number of samples in train/test \n",
        "# Tx: number of timestamps\n",
        "m_train, Tx = train_X.shape\n",
        "m_test = test_X.shape[0]\n",
        "\n",
        "# convert to numpy array. Keras does not take panads dataframe\n",
        "train_X = train_X.to_numpy().reshape(m_train, Tx, 1)\n",
        "test_X = test_X.to_numpy().reshape(m_test, Tx, 1)\n",
        "\n",
        "print(f\"num of samples {m_train}:{m_test}\")\n",
        "# convert label to one-hot\n",
        "output_class = 3 # there are 3 possible predictions\n",
        "# train_y range from 1-5. Make it from 0-4\n",
        "train_y_OH = np.eye(output_class)[train_y-1]\n",
        "test_y_OH = np.eye(output_class)[test_y-1]\n",
        "\n",
        "print(f\"train_X shape: {train_X.shape}\")\n",
        "print(f\"train_y_OH shape: {train_y_OH.shape}\")\n",
        "\n",
        "print(f\"test_X shape: {test_X.shape}\")\n",
        "print(f\"test_y_OH shape: {test_y_OH.shape}\")"
      ],
      "execution_count": null,
      "outputs": [
        {
          "output_type": "stream",
          "text": [
            "num of samples 220:56\n",
            "train_X shape: (220, 77224, 1)\n",
            "train_y_OH shape: (220, 3)\n",
            "test_X shape: (56, 77224, 1)\n",
            "test_y_OH shape: (56, 3)\n"
          ],
          "name": "stdout"
        }
      ]
    },
    {
      "cell_type": "markdown",
      "metadata": {
        "id": "pBh42_sQsp8U"
      },
      "source": [
        "## Check sample balance\n",
        "- This dataset is preprocessed and balanced, but it is a good practice to check\n",
        "- Had the sample size not been balanced, we would need to get class weights in a dictionary and feed that into fit() during training"
      ]
    },
    {
      "cell_type": "code",
      "metadata": {
        "id": "iV6WXeUcuPEn",
        "outputId": "58930319-328d-4e23-ac81-5e95157099e3",
        "colab": {
          "base_uri": "https://localhost:8080/",
          "height": 192
        }
      },
      "source": [
        "# check training sample balance\n",
        "balance_df = pd.DataFrame(\n",
        "    {\n",
        "    \"train\": train_y.value_counts(),\n",
        "    \"test\": test_y.value_counts()\n",
        "    }\n",
        " )\n",
        "\n",
        "balance_df.index.name = \"condition label\"\n",
        "\n",
        "print(\"No further balance is needed.\")\n",
        "\n",
        "balance_df"
      ],
      "execution_count": null,
      "outputs": [
        {
          "output_type": "stream",
          "text": [
            "No further balance is needed.\n"
          ],
          "name": "stdout"
        },
        {
          "output_type": "execute_result",
          "data": {
            "text/html": [
              "<div>\n",
              "<style scoped>\n",
              "    .dataframe tbody tr th:only-of-type {\n",
              "        vertical-align: middle;\n",
              "    }\n",
              "\n",
              "    .dataframe tbody tr th {\n",
              "        vertical-align: top;\n",
              "    }\n",
              "\n",
              "    .dataframe thead th {\n",
              "        text-align: right;\n",
              "    }\n",
              "</style>\n",
              "<table border=\"1\" class=\"dataframe\">\n",
              "  <thead>\n",
              "    <tr style=\"text-align: right;\">\n",
              "      <th></th>\n",
              "      <th>train</th>\n",
              "      <th>test</th>\n",
              "    </tr>\n",
              "    <tr>\n",
              "      <th>condition label</th>\n",
              "      <th></th>\n",
              "      <th></th>\n",
              "    </tr>\n",
              "  </thead>\n",
              "  <tbody>\n",
              "    <tr>\n",
              "      <th>1</th>\n",
              "      <td>70</td>\n",
              "      <td>22</td>\n",
              "    </tr>\n",
              "    <tr>\n",
              "      <th>2</th>\n",
              "      <td>72</td>\n",
              "      <td>20</td>\n",
              "    </tr>\n",
              "    <tr>\n",
              "      <th>3</th>\n",
              "      <td>78</td>\n",
              "      <td>14</td>\n",
              "    </tr>\n",
              "  </tbody>\n",
              "</table>\n",
              "</div>"
            ],
            "text/plain": [
              "                 train  test\n",
              "condition label             \n",
              "1                   70    22\n",
              "2                   72    20\n",
              "3                   78    14"
            ]
          },
          "metadata": {
            "tags": []
          },
          "execution_count": 45
        }
      ]
    },
    {
      "cell_type": "markdown",
      "metadata": {
        "id": "frv4FER2tPk0"
      },
      "source": [
        "# Define model and train"
      ]
    },
    {
      "cell_type": "markdown",
      "metadata": {
        "id": "MxIfP37T_MEm"
      },
      "source": [
        "## Model structure\n",
        "\n",
        "#### 3 Conv1D blocks:\n",
        "- Conv1D --> BatchNorm --> Dropout --> MaxPooling\n",
        "\n",
        "#### 3 LSTM blocks:\n",
        "- Bidirectional LSTM --> Dropout\n",
        "\n",
        "#### Final Dense layer\n",
        "- Dense --> BatchNorm --> Dropout --> Dense softmax output"
      ]
    },
    {
      "cell_type": "code",
      "metadata": {
        "id": "V-SLQLmuoMyz"
      },
      "source": [
        "layer_count=0 # for tracking layer names\n",
        "X_input = Input(shape=(Tx,1), name=f\"input_{layer_count}\")\n",
        "X = X_input"
      ],
      "execution_count": null,
      "outputs": []
    },
    {
      "cell_type": "code",
      "metadata": {
        "id": "uBR2FxjBo2rv"
      },
      "source": [
        "\n",
        "layer_count += 1\n",
        "X = Conv1D(32, kernel_size=20, padding=\"valid\", activation=\"relu\", name=f\"Conv_{layer_count}\")(X)\n",
        "X = Dropout(0.25, name=f\"DP_{layer_count}\")(X)\n",
        "X = BatchNormalization(name=f\"BN_{layer_count}\")(X)\n",
        "X = MaxPooling1D(pool_size=2, name=f\"MP_{layer_count}\")(X)\n",
        "\n",
        "layer_count += 1\n",
        "X = Conv1D(64, kernel_size=10, padding=\"valid\", activation=\"relu\", name=f\"Conv_{layer_count}\")(X)\n",
        "X = Dropout(0.25, name=f\"DP_{layer_count}\")(X)\n",
        "X = BatchNormalization(name=f\"BN_{layer_count}\")(X)\n",
        "X = MaxPooling1D(pool_size=2, name=f\"MP_{layer_count}\")(X)\n",
        "\n",
        "layer_count += 1\n",
        "X = Conv1D(128, kernel_size=10, padding=\"valid\", activation=\"relu\", name=f\"Conv_{layer_count}\")(X)\n",
        "X = Dropout(0.25, name=f\"DP_{layer_count}\")(X)\n",
        "X = BatchNormalization(name=f\"BN_{layer_count}\")(X)\n",
        "X = MaxPooling1D(pool_size=2, name=f\"MP_{layer_count}\")(X)"
      ],
      "execution_count": null,
      "outputs": []
    },
    {
      "cell_type": "code",
      "metadata": {
        "id": "jS8x_YJroP2Y"
      },
      "source": [
        "layer_count += 1\n",
        "X = Bidirectional(CuDNNLSTM(80, return_sequences=True, kernel_regularizer=\"l2\"), name=f\"BiLSTM_{layer_count}\")(X)\n",
        "X = Dropout(0.25, name=f\"DP_{layer_count}\")(X)\n",
        "X = BatchNormalization(name=f\"BN_{layer_count}\")(X)\n",
        "\n",
        "\n",
        "layer_count += 1\n",
        "X = Bidirectional(CuDNNLSTM(80, return_sequences=True, kernel_regularizer=\"l2\"), name=f\"BiLSTM_{layer_count}\")(X)\n",
        "X = Dropout(0.25, name=f\"DP_{layer_count}\")(X)\n",
        "X = BatchNormalization(name=f\"BN_{layer_count}\")(X)\n",
        "\n",
        "\n",
        "layer_count += 1    \n",
        "X = Bidirectional(CuDNNLSTM(80, kernel_regularizer=\"l2\"), name=f\"BiLSTM_{layer_count}\")(X)\n",
        "X = Dropout(0.25, name=f\"DP_{layer_count}\")(X)\n",
        "X = BatchNormalization(name=f\"BN_{layer_count}\")(X)\n"
      ],
      "execution_count": null,
      "outputs": []
    },
    {
      "cell_type": "code",
      "metadata": {
        "id": "xANXXNifoTLf"
      },
      "source": [
        "layer_count += 1\n",
        "X = Dense(80, activation=\"relu\", name=f\"Dense_{layer_count}\")(X)\n",
        "X = Dropout(0.25, name=f\"DP_{layer_count}\")(X)\n",
        "X = BatchNormalization(name=f\"BN_{layer_count}\")(X)\n",
        "\n",
        "layer_count += 1\n",
        "# X = Dropout(0.25, name=f\"DP_{layer_count}_2\")(X)\n",
        "output = Dense(3, activation=\"softmax\", name=f\"output_{layer_count}\")(X)\n",
        "\n",
        "model = Model(inputs=X_input, outputs=output)"
      ],
      "execution_count": null,
      "outputs": []
    },
    {
      "cell_type": "markdown",
      "metadata": {
        "id": "kVKfbOzaDSY1"
      },
      "source": [
        "## Create model graph and train"
      ]
    },
    {
      "cell_type": "code",
      "metadata": {
        "id": "Af5JasWXpIMv"
      },
      "source": [
        "input_shape = train_X.shape[1]\n",
        "\n",
        "# model_ntc = LSTM_model(Tx=input_shape, name=\"model_ntc\", temporal_conv=False)\n",
        "# model_ntc.summary()\n",
        "# import pdb\n",
        "# pdb.set_trace()\n",
        "# model_tc.summary()"
      ],
      "execution_count": null,
      "outputs": []
    },
    {
      "cell_type": "code",
      "metadata": {
        "id": "j06VKH7C5TVv",
        "outputId": "598a078d-7670-4054-b5a3-165dc210bc50",
        "colab": {
          "base_uri": "https://localhost:8080/",
          "height": 1000
        }
      },
      "source": [
        "model.summary()"
      ],
      "execution_count": null,
      "outputs": [
        {
          "output_type": "stream",
          "text": [
            "Model: \"functional_3\"\n",
            "_________________________________________________________________\n",
            "Layer (type)                 Output Shape              Param #   \n",
            "=================================================================\n",
            "input_0 (InputLayer)         [(None, 77224, 1)]        0         \n",
            "_________________________________________________________________\n",
            "Conv_1 (Conv1D)              (None, 77205, 32)         672       \n",
            "_________________________________________________________________\n",
            "DP_1 (Dropout)               (None, 77205, 32)         0         \n",
            "_________________________________________________________________\n",
            "BN_1 (BatchNormalization)    (None, 77205, 32)         128       \n",
            "_________________________________________________________________\n",
            "MP_1 (MaxPooling1D)          (None, 38602, 32)         0         \n",
            "_________________________________________________________________\n",
            "Conv_2 (Conv1D)              (None, 38593, 64)         20544     \n",
            "_________________________________________________________________\n",
            "DP_2 (Dropout)               (None, 38593, 64)         0         \n",
            "_________________________________________________________________\n",
            "BN_2 (BatchNormalization)    (None, 38593, 64)         256       \n",
            "_________________________________________________________________\n",
            "MP_2 (MaxPooling1D)          (None, 19296, 64)         0         \n",
            "_________________________________________________________________\n",
            "Conv_3 (Conv1D)              (None, 19287, 128)        82048     \n",
            "_________________________________________________________________\n",
            "DP_3 (Dropout)               (None, 19287, 128)        0         \n",
            "_________________________________________________________________\n",
            "BN_3 (BatchNormalization)    (None, 19287, 128)        512       \n",
            "_________________________________________________________________\n",
            "MP_3 (MaxPooling1D)          (None, 9643, 128)         0         \n",
            "_________________________________________________________________\n",
            "BiLSTM_4 (Bidirectional)     (None, 9643, 160)         134400    \n",
            "_________________________________________________________________\n",
            "DP_4 (Dropout)               (None, 9643, 160)         0         \n",
            "_________________________________________________________________\n",
            "BN_4 (BatchNormalization)    (None, 9643, 160)         640       \n",
            "_________________________________________________________________\n",
            "BiLSTM_5 (Bidirectional)     (None, 9643, 160)         154880    \n",
            "_________________________________________________________________\n",
            "DP_5 (Dropout)               (None, 9643, 160)         0         \n",
            "_________________________________________________________________\n",
            "BN_5 (BatchNormalization)    (None, 9643, 160)         640       \n",
            "_________________________________________________________________\n",
            "BiLSTM_6 (Bidirectional)     (None, 160)               154880    \n",
            "_________________________________________________________________\n",
            "DP_6 (Dropout)               (None, 160)               0         \n",
            "_________________________________________________________________\n",
            "BN_6 (BatchNormalization)    (None, 160)               640       \n",
            "_________________________________________________________________\n",
            "Dense_7 (Dense)              (None, 80)                12880     \n",
            "_________________________________________________________________\n",
            "DP_7 (Dropout)               (None, 80)                0         \n",
            "_________________________________________________________________\n",
            "BN_7 (BatchNormalization)    (None, 80)                320       \n",
            "_________________________________________________________________\n",
            "output_8 (Dense)             (None, 3)                 243       \n",
            "=================================================================\n",
            "Total params: 563,683\n",
            "Trainable params: 562,115\n",
            "Non-trainable params: 1,568\n",
            "_________________________________________________________________\n"
          ],
          "name": "stdout"
        }
      ]
    },
    {
      "cell_type": "code",
      "metadata": {
        "id": "UwQQv1iF6ILo",
        "outputId": "3577fcb6-f7cf-425a-ebf6-93eba9f57b4b",
        "colab": {
          "base_uri": "https://localhost:8080/",
          "height": 400
        }
      },
      "source": [
        "histories = {}\n",
        "\n",
        "opt=Adam(lr=1e-3)\n",
        "\n",
        "lr_reduction = ReduceLROnPlateau(\n",
        "    monitor=\"val_loss\",\n",
        "    factor=0.2, \n",
        "    patience=10, \n",
        "    verbose=1,\n",
        "    min_delta=1e-4,\n",
        "    cooldown=0,\n",
        "    min_lr=1e-6\n",
        ")\n",
        "\n",
        "early_stop = EarlyStopping(\n",
        "    monitor='val_loss', \n",
        "    min_delta=0, \n",
        "    patience=25, \n",
        "    verbose=1,\n",
        ")\n",
        "\n",
        "model.compile(optimizer=opt, loss=\"categorical_crossentropy\", metrics=[\"acc\"])\n",
        "print(f\"Start training {model.name}\")\n",
        "\n",
        "histories[model.name] = model.fit(\n",
        "    train_X, \n",
        "    train_y_OH,\n",
        "    validation_split=0.1, \n",
        "    batch_size=16, \n",
        "    epochs=100,\n",
        "    callbacks=[lr_reduction, early_stop],\n",
        "    verbose=0\n",
        ")\n",
        "\n",
        "# for model in [model_ntc]: # [model_ntc, model_tc]\n",
        "\n",
        "#     opt=Adam(lr=1e-3)\n",
        "\n",
        "#     lr_reduction = ReduceLROnPlateau(\n",
        "#         monitor=\"val_loss\",\n",
        "#         factor=0.2, \n",
        "#         patience=10, \n",
        "#         verbose=1,\n",
        "#         min_delta=1e-4,\n",
        "#         cooldown=0,\n",
        "#         min_lr=1e-6\n",
        "#     )\n",
        "\n",
        "#     early_stop = EarlyStopping(\n",
        "#         monitor='val_loss', \n",
        "#         min_delta=0, \n",
        "#         patience=25, \n",
        "#         verbose=1,\n",
        "#     )\n",
        "\n",
        "#     model.compile(optimizer=opt, loss=\"categorical_crossentropy\", metrics=[\"acc\"])\n",
        "#     print(f\"Start training {model.name}\")\n",
        "\n",
        "#     histories[model.name] = model.fit(\n",
        "#         train_X, \n",
        "#         train_y_OH,\n",
        "#         validation_split=0.1, \n",
        "#         batch_size=64, \n",
        "#         epochs=150,\n",
        "#         callbacks=[lr_reduction, early_stop],\n",
        "#         verbose=0\n",
        "#     )"
      ],
      "execution_count": null,
      "outputs": [
        {
          "output_type": "stream",
          "text": [
            "Start training functional_3\n"
          ],
          "name": "stdout"
        },
        {
          "output_type": "error",
          "ename": "KeyboardInterrupt",
          "evalue": "ignored",
          "traceback": [
            "\u001b[0;31m---------------------------------------------------------------------------\u001b[0m",
            "\u001b[0;31mKeyboardInterrupt\u001b[0m                         Traceback (most recent call last)",
            "\u001b[0;32m<ipython-input-63-b13c314448ba>\u001b[0m in \u001b[0;36m<module>\u001b[0;34m()\u001b[0m\n\u001b[1;32m     30\u001b[0m     \u001b[0mepochs\u001b[0m\u001b[0;34m=\u001b[0m\u001b[0;36m100\u001b[0m\u001b[0;34m,\u001b[0m\u001b[0;34m\u001b[0m\u001b[0;34m\u001b[0m\u001b[0m\n\u001b[1;32m     31\u001b[0m     \u001b[0mcallbacks\u001b[0m\u001b[0;34m=\u001b[0m\u001b[0;34m[\u001b[0m\u001b[0mlr_reduction\u001b[0m\u001b[0;34m,\u001b[0m \u001b[0mearly_stop\u001b[0m\u001b[0;34m]\u001b[0m\u001b[0;34m,\u001b[0m\u001b[0;34m\u001b[0m\u001b[0;34m\u001b[0m\u001b[0m\n\u001b[0;32m---> 32\u001b[0;31m     \u001b[0mverbose\u001b[0m\u001b[0;34m=\u001b[0m\u001b[0;36m0\u001b[0m\u001b[0;34m\u001b[0m\u001b[0;34m\u001b[0m\u001b[0m\n\u001b[0m\u001b[1;32m     33\u001b[0m )\n\u001b[1;32m     34\u001b[0m \u001b[0;34m\u001b[0m\u001b[0m\n",
            "\u001b[0;32m/usr/local/lib/python3.6/dist-packages/tensorflow/python/keras/engine/training.py\u001b[0m in \u001b[0;36m_method_wrapper\u001b[0;34m(self, *args, **kwargs)\u001b[0m\n\u001b[1;32m    106\u001b[0m   \u001b[0;32mdef\u001b[0m \u001b[0m_method_wrapper\u001b[0m\u001b[0;34m(\u001b[0m\u001b[0mself\u001b[0m\u001b[0;34m,\u001b[0m \u001b[0;34m*\u001b[0m\u001b[0margs\u001b[0m\u001b[0;34m,\u001b[0m \u001b[0;34m**\u001b[0m\u001b[0mkwargs\u001b[0m\u001b[0;34m)\u001b[0m\u001b[0;34m:\u001b[0m\u001b[0;34m\u001b[0m\u001b[0;34m\u001b[0m\u001b[0m\n\u001b[1;32m    107\u001b[0m     \u001b[0;32mif\u001b[0m \u001b[0;32mnot\u001b[0m \u001b[0mself\u001b[0m\u001b[0;34m.\u001b[0m\u001b[0m_in_multi_worker_mode\u001b[0m\u001b[0;34m(\u001b[0m\u001b[0;34m)\u001b[0m\u001b[0;34m:\u001b[0m  \u001b[0;31m# pylint: disable=protected-access\u001b[0m\u001b[0;34m\u001b[0m\u001b[0;34m\u001b[0m\u001b[0m\n\u001b[0;32m--> 108\u001b[0;31m       \u001b[0;32mreturn\u001b[0m \u001b[0mmethod\u001b[0m\u001b[0;34m(\u001b[0m\u001b[0mself\u001b[0m\u001b[0;34m,\u001b[0m \u001b[0;34m*\u001b[0m\u001b[0margs\u001b[0m\u001b[0;34m,\u001b[0m \u001b[0;34m**\u001b[0m\u001b[0mkwargs\u001b[0m\u001b[0;34m)\u001b[0m\u001b[0;34m\u001b[0m\u001b[0;34m\u001b[0m\u001b[0m\n\u001b[0m\u001b[1;32m    109\u001b[0m \u001b[0;34m\u001b[0m\u001b[0m\n\u001b[1;32m    110\u001b[0m     \u001b[0;31m# Running inside `run_distribute_coordinator` already.\u001b[0m\u001b[0;34m\u001b[0m\u001b[0;34m\u001b[0m\u001b[0;34m\u001b[0m\u001b[0m\n",
            "\u001b[0;32m/usr/local/lib/python3.6/dist-packages/tensorflow/python/keras/engine/training.py\u001b[0m in \u001b[0;36mfit\u001b[0;34m(self, x, y, batch_size, epochs, verbose, callbacks, validation_split, validation_data, shuffle, class_weight, sample_weight, initial_epoch, steps_per_epoch, validation_steps, validation_batch_size, validation_freq, max_queue_size, workers, use_multiprocessing)\u001b[0m\n\u001b[1;32m   1131\u001b[0m               \u001b[0mworkers\u001b[0m\u001b[0;34m=\u001b[0m\u001b[0mworkers\u001b[0m\u001b[0;34m,\u001b[0m\u001b[0;34m\u001b[0m\u001b[0;34m\u001b[0m\u001b[0m\n\u001b[1;32m   1132\u001b[0m               \u001b[0muse_multiprocessing\u001b[0m\u001b[0;34m=\u001b[0m\u001b[0muse_multiprocessing\u001b[0m\u001b[0;34m,\u001b[0m\u001b[0;34m\u001b[0m\u001b[0;34m\u001b[0m\u001b[0m\n\u001b[0;32m-> 1133\u001b[0;31m               return_dict=True)\n\u001b[0m\u001b[1;32m   1134\u001b[0m           \u001b[0mval_logs\u001b[0m \u001b[0;34m=\u001b[0m \u001b[0;34m{\u001b[0m\u001b[0;34m'val_'\u001b[0m \u001b[0;34m+\u001b[0m \u001b[0mname\u001b[0m\u001b[0;34m:\u001b[0m \u001b[0mval\u001b[0m \u001b[0;32mfor\u001b[0m \u001b[0mname\u001b[0m\u001b[0;34m,\u001b[0m \u001b[0mval\u001b[0m \u001b[0;32min\u001b[0m \u001b[0mval_logs\u001b[0m\u001b[0;34m.\u001b[0m\u001b[0mitems\u001b[0m\u001b[0;34m(\u001b[0m\u001b[0;34m)\u001b[0m\u001b[0;34m}\u001b[0m\u001b[0;34m\u001b[0m\u001b[0;34m\u001b[0m\u001b[0m\n\u001b[1;32m   1135\u001b[0m           \u001b[0mepoch_logs\u001b[0m\u001b[0;34m.\u001b[0m\u001b[0mupdate\u001b[0m\u001b[0;34m(\u001b[0m\u001b[0mval_logs\u001b[0m\u001b[0;34m)\u001b[0m\u001b[0;34m\u001b[0m\u001b[0;34m\u001b[0m\u001b[0m\n",
            "\u001b[0;32m/usr/local/lib/python3.6/dist-packages/tensorflow/python/keras/engine/training.py\u001b[0m in \u001b[0;36m_method_wrapper\u001b[0;34m(self, *args, **kwargs)\u001b[0m\n\u001b[1;32m    106\u001b[0m   \u001b[0;32mdef\u001b[0m \u001b[0m_method_wrapper\u001b[0m\u001b[0;34m(\u001b[0m\u001b[0mself\u001b[0m\u001b[0;34m,\u001b[0m \u001b[0;34m*\u001b[0m\u001b[0margs\u001b[0m\u001b[0;34m,\u001b[0m \u001b[0;34m**\u001b[0m\u001b[0mkwargs\u001b[0m\u001b[0;34m)\u001b[0m\u001b[0;34m:\u001b[0m\u001b[0;34m\u001b[0m\u001b[0;34m\u001b[0m\u001b[0m\n\u001b[1;32m    107\u001b[0m     \u001b[0;32mif\u001b[0m \u001b[0;32mnot\u001b[0m \u001b[0mself\u001b[0m\u001b[0;34m.\u001b[0m\u001b[0m_in_multi_worker_mode\u001b[0m\u001b[0;34m(\u001b[0m\u001b[0;34m)\u001b[0m\u001b[0;34m:\u001b[0m  \u001b[0;31m# pylint: disable=protected-access\u001b[0m\u001b[0;34m\u001b[0m\u001b[0;34m\u001b[0m\u001b[0m\n\u001b[0;32m--> 108\u001b[0;31m       \u001b[0;32mreturn\u001b[0m \u001b[0mmethod\u001b[0m\u001b[0;34m(\u001b[0m\u001b[0mself\u001b[0m\u001b[0;34m,\u001b[0m \u001b[0;34m*\u001b[0m\u001b[0margs\u001b[0m\u001b[0;34m,\u001b[0m \u001b[0;34m**\u001b[0m\u001b[0mkwargs\u001b[0m\u001b[0;34m)\u001b[0m\u001b[0;34m\u001b[0m\u001b[0;34m\u001b[0m\u001b[0m\n\u001b[0m\u001b[1;32m    109\u001b[0m \u001b[0;34m\u001b[0m\u001b[0m\n\u001b[1;32m    110\u001b[0m     \u001b[0;31m# Running inside `run_distribute_coordinator` already.\u001b[0m\u001b[0;34m\u001b[0m\u001b[0;34m\u001b[0m\u001b[0;34m\u001b[0m\u001b[0m\n",
            "\u001b[0;32m/usr/local/lib/python3.6/dist-packages/tensorflow/python/keras/engine/training.py\u001b[0m in \u001b[0;36mevaluate\u001b[0;34m(self, x, y, batch_size, verbose, sample_weight, steps, callbacks, max_queue_size, workers, use_multiprocessing, return_dict)\u001b[0m\n\u001b[1;32m   1377\u001b[0m             \u001b[0;32mwith\u001b[0m \u001b[0mtrace\u001b[0m\u001b[0;34m.\u001b[0m\u001b[0mTrace\u001b[0m\u001b[0;34m(\u001b[0m\u001b[0;34m'TraceContext'\u001b[0m\u001b[0;34m,\u001b[0m \u001b[0mgraph_type\u001b[0m\u001b[0;34m=\u001b[0m\u001b[0;34m'test'\u001b[0m\u001b[0;34m,\u001b[0m \u001b[0mstep_num\u001b[0m\u001b[0;34m=\u001b[0m\u001b[0mstep\u001b[0m\u001b[0;34m)\u001b[0m\u001b[0;34m:\u001b[0m\u001b[0;34m\u001b[0m\u001b[0;34m\u001b[0m\u001b[0m\n\u001b[1;32m   1378\u001b[0m               \u001b[0mcallbacks\u001b[0m\u001b[0;34m.\u001b[0m\u001b[0mon_test_batch_begin\u001b[0m\u001b[0;34m(\u001b[0m\u001b[0mstep\u001b[0m\u001b[0;34m)\u001b[0m\u001b[0;34m\u001b[0m\u001b[0;34m\u001b[0m\u001b[0m\n\u001b[0;32m-> 1379\u001b[0;31m               \u001b[0mtmp_logs\u001b[0m \u001b[0;34m=\u001b[0m \u001b[0mtest_function\u001b[0m\u001b[0;34m(\u001b[0m\u001b[0miterator\u001b[0m\u001b[0;34m)\u001b[0m\u001b[0;34m\u001b[0m\u001b[0;34m\u001b[0m\u001b[0m\n\u001b[0m\u001b[1;32m   1380\u001b[0m               \u001b[0;32mif\u001b[0m \u001b[0mdata_handler\u001b[0m\u001b[0;34m.\u001b[0m\u001b[0mshould_sync\u001b[0m\u001b[0;34m:\u001b[0m\u001b[0;34m\u001b[0m\u001b[0;34m\u001b[0m\u001b[0m\n\u001b[1;32m   1381\u001b[0m                 \u001b[0mcontext\u001b[0m\u001b[0;34m.\u001b[0m\u001b[0masync_wait\u001b[0m\u001b[0;34m(\u001b[0m\u001b[0;34m)\u001b[0m\u001b[0;34m\u001b[0m\u001b[0;34m\u001b[0m\u001b[0m\n",
            "\u001b[0;32m/usr/local/lib/python3.6/dist-packages/tensorflow/python/eager/def_function.py\u001b[0m in \u001b[0;36m__call__\u001b[0;34m(self, *args, **kwds)\u001b[0m\n\u001b[1;32m    778\u001b[0m       \u001b[0;32melse\u001b[0m\u001b[0;34m:\u001b[0m\u001b[0;34m\u001b[0m\u001b[0;34m\u001b[0m\u001b[0m\n\u001b[1;32m    779\u001b[0m         \u001b[0mcompiler\u001b[0m \u001b[0;34m=\u001b[0m \u001b[0;34m\"nonXla\"\u001b[0m\u001b[0;34m\u001b[0m\u001b[0;34m\u001b[0m\u001b[0m\n\u001b[0;32m--> 780\u001b[0;31m         \u001b[0mresult\u001b[0m \u001b[0;34m=\u001b[0m \u001b[0mself\u001b[0m\u001b[0;34m.\u001b[0m\u001b[0m_call\u001b[0m\u001b[0;34m(\u001b[0m\u001b[0;34m*\u001b[0m\u001b[0margs\u001b[0m\u001b[0;34m,\u001b[0m \u001b[0;34m**\u001b[0m\u001b[0mkwds\u001b[0m\u001b[0;34m)\u001b[0m\u001b[0;34m\u001b[0m\u001b[0;34m\u001b[0m\u001b[0m\n\u001b[0m\u001b[1;32m    781\u001b[0m \u001b[0;34m\u001b[0m\u001b[0m\n\u001b[1;32m    782\u001b[0m       \u001b[0mnew_tracing_count\u001b[0m \u001b[0;34m=\u001b[0m \u001b[0mself\u001b[0m\u001b[0;34m.\u001b[0m\u001b[0m_get_tracing_count\u001b[0m\u001b[0;34m(\u001b[0m\u001b[0;34m)\u001b[0m\u001b[0;34m\u001b[0m\u001b[0;34m\u001b[0m\u001b[0m\n",
            "\u001b[0;32m/usr/local/lib/python3.6/dist-packages/tensorflow/python/eager/def_function.py\u001b[0m in \u001b[0;36m_call\u001b[0;34m(self, *args, **kwds)\u001b[0m\n\u001b[1;32m    812\u001b[0m       \u001b[0;31m# In this case we have not created variables on the first call. So we can\u001b[0m\u001b[0;34m\u001b[0m\u001b[0;34m\u001b[0m\u001b[0;34m\u001b[0m\u001b[0m\n\u001b[1;32m    813\u001b[0m       \u001b[0;31m# run the first trace but we should fail if variables are created.\u001b[0m\u001b[0;34m\u001b[0m\u001b[0;34m\u001b[0m\u001b[0;34m\u001b[0m\u001b[0m\n\u001b[0;32m--> 814\u001b[0;31m       \u001b[0mresults\u001b[0m \u001b[0;34m=\u001b[0m \u001b[0mself\u001b[0m\u001b[0;34m.\u001b[0m\u001b[0m_stateful_fn\u001b[0m\u001b[0;34m(\u001b[0m\u001b[0;34m*\u001b[0m\u001b[0margs\u001b[0m\u001b[0;34m,\u001b[0m \u001b[0;34m**\u001b[0m\u001b[0mkwds\u001b[0m\u001b[0;34m)\u001b[0m\u001b[0;34m\u001b[0m\u001b[0;34m\u001b[0m\u001b[0m\n\u001b[0m\u001b[1;32m    815\u001b[0m       \u001b[0;32mif\u001b[0m \u001b[0mself\u001b[0m\u001b[0;34m.\u001b[0m\u001b[0m_created_variables\u001b[0m\u001b[0;34m:\u001b[0m\u001b[0;34m\u001b[0m\u001b[0;34m\u001b[0m\u001b[0m\n\u001b[1;32m    816\u001b[0m         raise ValueError(\"Creating variables on a non-first call to a function\"\n",
            "\u001b[0;32m/usr/local/lib/python3.6/dist-packages/tensorflow/python/eager/function.py\u001b[0m in \u001b[0;36m__call__\u001b[0;34m(self, *args, **kwargs)\u001b[0m\n\u001b[1;32m   2827\u001b[0m     \u001b[0;32mwith\u001b[0m \u001b[0mself\u001b[0m\u001b[0;34m.\u001b[0m\u001b[0m_lock\u001b[0m\u001b[0;34m:\u001b[0m\u001b[0;34m\u001b[0m\u001b[0;34m\u001b[0m\u001b[0m\n\u001b[1;32m   2828\u001b[0m       \u001b[0mgraph_function\u001b[0m\u001b[0;34m,\u001b[0m \u001b[0margs\u001b[0m\u001b[0;34m,\u001b[0m \u001b[0mkwargs\u001b[0m \u001b[0;34m=\u001b[0m \u001b[0mself\u001b[0m\u001b[0;34m.\u001b[0m\u001b[0m_maybe_define_function\u001b[0m\u001b[0;34m(\u001b[0m\u001b[0margs\u001b[0m\u001b[0;34m,\u001b[0m \u001b[0mkwargs\u001b[0m\u001b[0;34m)\u001b[0m\u001b[0;34m\u001b[0m\u001b[0;34m\u001b[0m\u001b[0m\n\u001b[0;32m-> 2829\u001b[0;31m     \u001b[0;32mreturn\u001b[0m \u001b[0mgraph_function\u001b[0m\u001b[0;34m.\u001b[0m\u001b[0m_filtered_call\u001b[0m\u001b[0;34m(\u001b[0m\u001b[0margs\u001b[0m\u001b[0;34m,\u001b[0m \u001b[0mkwargs\u001b[0m\u001b[0;34m)\u001b[0m  \u001b[0;31m# pylint: disable=protected-access\u001b[0m\u001b[0;34m\u001b[0m\u001b[0;34m\u001b[0m\u001b[0m\n\u001b[0m\u001b[1;32m   2830\u001b[0m \u001b[0;34m\u001b[0m\u001b[0m\n\u001b[1;32m   2831\u001b[0m   \u001b[0;34m@\u001b[0m\u001b[0mproperty\u001b[0m\u001b[0;34m\u001b[0m\u001b[0;34m\u001b[0m\u001b[0m\n",
            "\u001b[0;32m/usr/local/lib/python3.6/dist-packages/tensorflow/python/eager/function.py\u001b[0m in \u001b[0;36m_filtered_call\u001b[0;34m(self, args, kwargs, cancellation_manager)\u001b[0m\n\u001b[1;32m   1846\u001b[0m                            resource_variable_ops.BaseResourceVariable))],\n\u001b[1;32m   1847\u001b[0m         \u001b[0mcaptured_inputs\u001b[0m\u001b[0;34m=\u001b[0m\u001b[0mself\u001b[0m\u001b[0;34m.\u001b[0m\u001b[0mcaptured_inputs\u001b[0m\u001b[0;34m,\u001b[0m\u001b[0;34m\u001b[0m\u001b[0;34m\u001b[0m\u001b[0m\n\u001b[0;32m-> 1848\u001b[0;31m         cancellation_manager=cancellation_manager)\n\u001b[0m\u001b[1;32m   1849\u001b[0m \u001b[0;34m\u001b[0m\u001b[0m\n\u001b[1;32m   1850\u001b[0m   \u001b[0;32mdef\u001b[0m \u001b[0m_call_flat\u001b[0m\u001b[0;34m(\u001b[0m\u001b[0mself\u001b[0m\u001b[0;34m,\u001b[0m \u001b[0margs\u001b[0m\u001b[0;34m,\u001b[0m \u001b[0mcaptured_inputs\u001b[0m\u001b[0;34m,\u001b[0m \u001b[0mcancellation_manager\u001b[0m\u001b[0;34m=\u001b[0m\u001b[0;32mNone\u001b[0m\u001b[0;34m)\u001b[0m\u001b[0;34m:\u001b[0m\u001b[0;34m\u001b[0m\u001b[0;34m\u001b[0m\u001b[0m\n",
            "\u001b[0;32m/usr/local/lib/python3.6/dist-packages/tensorflow/python/eager/function.py\u001b[0m in \u001b[0;36m_call_flat\u001b[0;34m(self, args, captured_inputs, cancellation_manager)\u001b[0m\n\u001b[1;32m   1922\u001b[0m       \u001b[0;31m# No tape is watching; skip to running the function.\u001b[0m\u001b[0;34m\u001b[0m\u001b[0;34m\u001b[0m\u001b[0;34m\u001b[0m\u001b[0m\n\u001b[1;32m   1923\u001b[0m       return self._build_call_outputs(self._inference_function.call(\n\u001b[0;32m-> 1924\u001b[0;31m           ctx, args, cancellation_manager=cancellation_manager))\n\u001b[0m\u001b[1;32m   1925\u001b[0m     forward_backward = self._select_forward_and_backward_functions(\n\u001b[1;32m   1926\u001b[0m         \u001b[0margs\u001b[0m\u001b[0;34m,\u001b[0m\u001b[0;34m\u001b[0m\u001b[0;34m\u001b[0m\u001b[0m\n",
            "\u001b[0;32m/usr/local/lib/python3.6/dist-packages/tensorflow/python/eager/function.py\u001b[0m in \u001b[0;36mcall\u001b[0;34m(self, ctx, args, cancellation_manager)\u001b[0m\n\u001b[1;32m    548\u001b[0m               \u001b[0minputs\u001b[0m\u001b[0;34m=\u001b[0m\u001b[0margs\u001b[0m\u001b[0;34m,\u001b[0m\u001b[0;34m\u001b[0m\u001b[0;34m\u001b[0m\u001b[0m\n\u001b[1;32m    549\u001b[0m               \u001b[0mattrs\u001b[0m\u001b[0;34m=\u001b[0m\u001b[0mattrs\u001b[0m\u001b[0;34m,\u001b[0m\u001b[0;34m\u001b[0m\u001b[0;34m\u001b[0m\u001b[0m\n\u001b[0;32m--> 550\u001b[0;31m               ctx=ctx)\n\u001b[0m\u001b[1;32m    551\u001b[0m         \u001b[0;32melse\u001b[0m\u001b[0;34m:\u001b[0m\u001b[0;34m\u001b[0m\u001b[0;34m\u001b[0m\u001b[0m\n\u001b[1;32m    552\u001b[0m           outputs = execute.execute_with_cancellation(\n",
            "\u001b[0;32m/usr/local/lib/python3.6/dist-packages/tensorflow/python/eager/execute.py\u001b[0m in \u001b[0;36mquick_execute\u001b[0;34m(op_name, num_outputs, inputs, attrs, ctx, name)\u001b[0m\n\u001b[1;32m     58\u001b[0m     \u001b[0mctx\u001b[0m\u001b[0;34m.\u001b[0m\u001b[0mensure_initialized\u001b[0m\u001b[0;34m(\u001b[0m\u001b[0;34m)\u001b[0m\u001b[0;34m\u001b[0m\u001b[0;34m\u001b[0m\u001b[0m\n\u001b[1;32m     59\u001b[0m     tensors = pywrap_tfe.TFE_Py_Execute(ctx._handle, device_name, op_name,\n\u001b[0;32m---> 60\u001b[0;31m                                         inputs, attrs, num_outputs)\n\u001b[0m\u001b[1;32m     61\u001b[0m   \u001b[0;32mexcept\u001b[0m \u001b[0mcore\u001b[0m\u001b[0;34m.\u001b[0m\u001b[0m_NotOkStatusException\u001b[0m \u001b[0;32mas\u001b[0m \u001b[0me\u001b[0m\u001b[0;34m:\u001b[0m\u001b[0;34m\u001b[0m\u001b[0;34m\u001b[0m\u001b[0m\n\u001b[1;32m     62\u001b[0m     \u001b[0;32mif\u001b[0m \u001b[0mname\u001b[0m \u001b[0;32mis\u001b[0m \u001b[0;32mnot\u001b[0m \u001b[0;32mNone\u001b[0m\u001b[0;34m:\u001b[0m\u001b[0;34m\u001b[0m\u001b[0;34m\u001b[0m\u001b[0m\n",
            "\u001b[0;31mKeyboardInterrupt\u001b[0m: "
          ]
        }
      ]
    },
    {
      "cell_type": "code",
      "metadata": {
        "id": "ljum9S3zJRXz",
        "outputId": "94e49782-3968-4a00-880d-7002248184dd",
        "colab": {
          "base_uri": "https://localhost:8080/",
          "height": 353
        }
      },
      "source": [
        "_, axes = plt.subplots(nrows=1, ncols=2, figsize=(12,5))\n",
        "\n",
        "for m, ax in zip([\"loss\", \"acc\"], axes.flat):\n",
        "\n",
        "  # ax.plot(histories[\"model_ntc\"].history[m], label=\"no_TemporalConv\", color=\"C0\")\n",
        "  # ax.plot(histories[\"model_ntc\"].history[f\"val_{m}\"], label=\"no_TemporalConv_val\", color=\"C0\", linestyle=\"--\")\n",
        "  ax.plot(histories[\"functional_1\"].history[m], label=\"with_TemporalConv\", color=\"C1\")\n",
        "  #ax.plot(histories[\"model\"].history[f\"val_{m}\"], label=\"with_TemporalConv_val\", color=\"C1\", linestyle=\"--\")\n",
        "  ax.set(title=m)\n",
        "  ax.legend()\n",
        "axes[0].set(ylim=(0,10))\n",
        "axes[1].set(ylim=(0.4,0.9))"
      ],
      "execution_count": null,
      "outputs": [
        {
          "output_type": "execute_result",
          "data": {
            "text/plain": [
              "[(0.4, 0.9)]"
            ]
          },
          "metadata": {
            "tags": []
          },
          "execution_count": 53
        },
        {
          "output_type": "display_data",
          "data": {
            "image/png": "[encoded data removed]",
            "text/plain": [
              "<Figure size 864x360 with 2 Axes>"
            ]
          },
          "metadata": {
            "tags": [],
            "needs_background": "light"
          }
        }
      ]
    },
    {
      "cell_type": "markdown",
      "metadata": {
        "id": "lbA2oDBlDlOv"
      },
      "source": [
        "# Performance"
      ]
    },
    {
      "cell_type": "code",
      "metadata": {
        "id": "-Y7C6g1gfdHK"
      },
      "source": [
        "# pred_OH = model.predict(test_X) # pred_OH shape (num_sample, num_class) values are prob\n",
        "# print(pred_OH)\n",
        "# pred = np.argmax(pred_OH, axis=-1) # get prediction class 0-4\n",
        "# print(pred)"
      ],
      "execution_count": null,
      "outputs": []
    },
    {
      "cell_type": "code",
      "metadata": {
        "id": "SkL98Vu37r6v",
        "outputId": "3fe8f411-62da-48c0-e849-1304d6a7641d",
        "colab": {
          "base_uri": "https://localhost:8080/",
          "height": 601
        }
      },
      "source": [
        "# test_y range from 1-5, covnert to 0-4\n",
        "groups = [\"Before Ictal\", \"During\", \"After Ictal\"]\n",
        "confusion = confusion_matrix(test_y-1, pred)\n",
        "\n",
        "report = classification_report(test_y-1, pred, target_names=groups)\n",
        "\n",
        "print(report)\n",
        "\n",
        "confusion = pd.DataFrame(confusion.T, index=[f\"{g}_pred\" for g in groups], columns=groups)\n",
        "plt.figure(figsize=(8,6))\n",
        "sns.heatmap(confusion, annot=True, annot_kws={\"size\":10}, cmap=\"Blues\")"
      ],
      "execution_count": null,
      "outputs": [
        {
          "output_type": "stream",
          "text": [
            "              precision    recall  f1-score   support\n",
            "\n",
            "Before Ictal       0.50      0.55      0.52        22\n",
            "      During       0.00      0.00      0.00        20\n",
            " After Ictal       0.09      0.21      0.13        14\n",
            "\n",
            "    accuracy                           0.27        56\n",
            "   macro avg       0.20      0.25      0.22        56\n",
            "weighted avg       0.22      0.27      0.24        56\n",
            "\n"
          ],
          "name": "stdout"
        },
        {
          "output_type": "stream",
          "text": [
            "/usr/local/lib/python3.6/dist-packages/sklearn/metrics/_classification.py:1272: UndefinedMetricWarning: Precision and F-score are ill-defined and being set to 0.0 in labels with no predicted samples. Use `zero_division` parameter to control this behavior.\n",
            "  _warn_prf(average, modifier, msg_start, len(result))\n"
          ],
          "name": "stderr"
        },
        {
          "output_type": "execute_result",
          "data": {
            "text/plain": [
              "<matplotlib.axes._subplots.AxesSubplot at 0x7f1a411257f0>"
            ]
          },
          "metadata": {
            "tags": []
          },
          "execution_count": 55
        },
        {
          "output_type": "display_data",
          "data": {
            "image/png": "[encoded data removed]",
            "text/plain": [
              "<Figure size 576x432 with 2 Axes>"
            ]
          },
          "metadata": {
            "tags": [],
            "needs_background": "light"
          }
        }
      ]
    },
    {
      "cell_type": "markdown",
      "metadata": {
        "id": "S81iEYShdJC2"
      },
      "source": [
        "# Conclusion\n",
        "\n",
        "- Adding temporal conv layers before LSTM helps neural network learns faster and better. \n",
        "- In general, model_tc is performing well in differentiating major groups: healthy, tumor, epileptic; however, it is having a bit hard time telling minor groups: Tumor_TumorArea vs Tumor_HealthyArea and Healthy_EyeClose vs Healthy_EyeOpen.\n",
        "- Interestingly, 19 recordings from Tumor_healthyArea were classified as healthy_EyeOpen, suggesting the local neuronal activities are not affected by tumor mass. \n"
      ]
    }
  ]
}